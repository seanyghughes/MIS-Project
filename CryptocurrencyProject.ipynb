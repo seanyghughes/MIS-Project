{
  "nbformat": 4,
  "nbformat_minor": 0,
  "metadata": {
    "kernelspec": {
      "display_name": "Python 3",
      "language": "python",
      "name": "python3"
    },
    "language_info": {
      "codemirror_mode": {
        "name": "ipython",
        "version": 3
      },
      "file_extension": ".py",
      "mimetype": "text/x-python",
      "name": "python",
      "nbconvert_exporter": "python",
      "pygments_lexer": "ipython3",
      "version": "3.8.5"
    },
    "colab": {
      "name": "MS5114 - Group_Project - Group_23.ipynb",
      "provenance": [],
      "collapsed_sections": [],
      "include_colab_link": true
    }
  },
  "cells": [
    {
      "cell_type": "markdown",
      "metadata": {
        "id": "view-in-github",
        "colab_type": "text"
      },
      "source": [
        "<a href=\"https://colab.research.google.com/github/seanyghughes/MIS-Project/blob/master/CryptocurrencyProject.ipynb\" target=\"_parent\"><img src=\"https://colab.research.google.com/assets/colab-badge.svg\" alt=\"Open In Colab\"/></a>"
      ]
    },
    {
      "cell_type": "markdown",
      "metadata": {
        "id": "oRYPVeOVOiZm"
      },
      "source": [
        "# **Using Machine Learning techniques to analyse cryptocurrency price history and predict future prices**"
      ]
    },
    {
      "cell_type": "code",
      "metadata": {
        "id": "kBGeD2zJ7SV6"
      },
      "source": [
        "import pandas as pd\n",
        "import numpy as np\n",
        "import datetime as dt\n",
        "import matplotlib.pyplot as plt\n",
        "import matplotlib.ticker as ticker\n",
        "from sklearn import linear_model, svm\n",
        "from sklearn.model_selection import train_test_split\n",
        "from datetime import datetime"
      ],
      "execution_count": null,
      "outputs": []
    },
    {
      "cell_type": "code",
      "metadata": {
        "id": "mhgvGwG47SV8"
      },
      "source": [
        "# Create a currency class to initialise currency objects\n",
        "class Currency:\n",
        "    def __init__(self, currency):\n",
        "        self.currency = currency\n",
        "        \n",
        "    # get bitcoin data\n",
        "    def btc_data(self):\n",
        "        global df, x, y\n",
        "        df = pd.read_csv('coin_Bitcoin.csv')\n",
        "        x = df[['Open', 'High', 'Low']]\n",
        "        y = df['Close']\n",
        "        return df\n",
        "    \n",
        "    # get ethereum data\n",
        "    def ether_data(self):\n",
        "        global df, x, y\n",
        "        df = pd.read_csv('coin_Ethereum.csv')\n",
        "        x = df[['Open', 'High', 'Low']]\n",
        "        y = df['Close']\n",
        "        return df\n",
        "    \n",
        "    # get binance coin data\n",
        "    def bnb_data(self):\n",
        "        global df, x, y\n",
        "        df = pd.read_csv('coin_BinanceCoin.csv')\n",
        "        x = df[['Open', 'High', 'Low']]\n",
        "        y = df['Close']\n",
        "        return df\n",
        "    \n",
        "    # get dogecoin data\n",
        "    def doge_data(self):\n",
        "        global df, x, y\n",
        "        df = pd.read_csv('coin_Dogecoin.csv')\n",
        "        x = df[['Open', 'High', 'Low']]\n",
        "        y = df['Close']\n",
        "        return df\n",
        "    \n",
        "    # get ripple data\n",
        "    def xrp_data(self):\n",
        "        global df, x, y\n",
        "        df = pd.read_csv('coin_XRP.csv')\n",
        "        x = df[['Open', 'High', 'Low']]\n",
        "        y = df['Close']\n",
        "        return df\n",
        "\n",
        "    # Statistical Description of the Data Set\n",
        "    def data_description(self):\n",
        "        description = df.describe()\n",
        "        plt.plot(df['Close'])\n",
        "        plt.plot(df['Open'])\n",
        "        plt.title('Closing Price History')\n",
        "        plt.xlabel('Days')\n",
        "        plt.ylabel('Price')\n",
        "        return description\n",
        "\n",
        "    # Add prediction column to the dataframe\n",
        "    def pluscolumn(self):\n",
        "       global predict_days\n",
        "       predict_days = 10\n",
        "       df[\"dayspredict\"]=df[\"Close\"].shift(-predict_days)\n",
        "       return df\n",
        "    # Arrange variables into array format\n",
        "    def variable(self):\n",
        "       global x,y\n",
        "       x=np.array(df[\"Close\"])\n",
        "       x=x[:-predict_days]\n",
        "       y=np.array(df[\"dayspredict\"])\n",
        "       y=y[:-predict_days]\n",
        "       return (len(x),len(y))\n",
        "\n",
        "    # Split dataframe into 80% training and 20% testing\n",
        "    def split_data(self, x, y):\n",
        "        global train_x, test_x, train_y, test_y\n",
        "        train_x, test_x, train_y, test_y = train_test_split(x, y, test_size = 0.2, train_size = 0.8, shuffle = False)\n",
        "        train_x=np.reshape(train_x,(train_x.shape[0],1))\n",
        "        test_x=np.reshape(test_x,(test_x.shape[0],1))\n",
        "        train_y=np.reshape(train_y,(train_y.shape[0],1))\n",
        "        test_y=np.reshape(test_y,(test_y.shape[0],1))\n",
        "\n",
        "    # Linear Regression model training and scoring (accuracy)\n",
        "    def lin_reg(self):\n",
        "        global lr_model\n",
        "        lr_model = linear_model.LinearRegression()\n",
        "        lr_model.fit(train_x, train_y) # training the model\n",
        "        return (f'Linear Regression Model Accuracy: {lr_model.score(test_x, test_y)}\\n Coefficients: {lr_model.coef_} \\n Intercept: {lr_model.intercept_}')\n",
        "    \n",
        "    # Support Vector Regression model training and scoring (accuracy)\n",
        "    def svm(self):\n",
        "        global svr_model\n",
        "        svr_model = svm.SVR(kernel='rbf', C=1e3, gamma = 0.1)\n",
        "        svr_model.fit(train_x, train_y) # training the model\n",
        "        return (f'SVM Model Accuracy: {svr_model.score(test_x, test_y)}')\n",
        "        \n",
        "    # Linear Regression Prediction\n",
        "    def lr_predict(self):\n",
        "        prediction = lr_model.predict(test_x)\n",
        "        return (f'Linear Regression Prediction: {prediction[-1]}')\n",
        "    \n",
        "    # Support Vector Regression Prediction\n",
        "    def svr_predict(self):\n",
        "        prediction = svr_model.predict(test_x) \n",
        "        return (f'Support Vector Regression Prediction: {prediction[-1]}')\n",
        "\n",
        "    # Display of 10 day prediction model\n",
        "    def dayspredict_visual(self):\n",
        "        x_predict = np.array(df['Close'])[-predict_days:]\n",
        "        x_predict = np.reshape(x_predict,(x_predict.shape[0],1))\n",
        "        lr_predict = lr_model.predict(x_predict)\n",
        "        svm_predict = svr_model.predict(x_predict)\n",
        "        plt.plot(lr_predict,label = 'Linear regression model', color= 'red')\n",
        "        plt.plot(svm_predict,label = 'Support vector machine model', color= 'b')\n",
        "        plt.title('10 day Price Prediction')\n",
        "        plt.xlabel('days')\n",
        "        plt.ylabel('price')\n",
        "        plt.axhline(lr_predict.mean(), color='k', linestyle='dashed', linewidth=1, label = 'LR Mean')\n",
        "        plt.axhline(svm_predict.mean(), color='k', linestyle='dashed', linewidth=1, Label = 'SVM Mean')\n",
        "        plt.legend(bbox_to_anchor=(1.05,1), loc='upper left', borderaxespad=0.)\n",
        "\n",
        "    # Previous 30 days price history\n",
        "    def price_prev_30days(self):\n",
        "        prev_30days = df['Close'].tail(30)\n",
        "        date = df['Date'].tail(30)\n",
        "        fig, ax = plt.subplots(1,1)\n",
        "        ax.plot(date, prev_30days)\n",
        "        ax.xaxis.set_major_locator(ticker.MultipleLocator(len(date)/3))\n",
        "        ax.set_xlabel('Date')\n",
        "        ax.set_ylabel('USD ($)')\n",
        "        ax.set_title('30-Day Price History')\n",
        "\n",
        "    # Previous 6 months price history\n",
        "    def price_prev_6months(self):\n",
        "        prev_6months = df['Close'].tail(182)\n",
        "        date = df['Date'].tail(182)\n",
        "        fig, ax = plt.subplots(1,1)\n",
        "        ax.plot(date, prev_6months)\n",
        "        ax.xaxis.set_major_locator(ticker.MultipleLocator(len(date)/3))\n",
        "        ax.set_xlabel('Date')\n",
        "        ax.set_ylabel('USD ($)')\n",
        "        ax.set_title('6-Month Price History')\n",
        "\n",
        "    # Previous year price history\n",
        "    def price_prev_year(self):\n",
        "        prev_year = df['Close'].tail(365)\n",
        "        date = df['Date'].tail(365)\n",
        "        fig, ax = plt.subplots(1,1)\n",
        "        ax.plot(date, prev_year)\n",
        "        ax.xaxis.set_major_locator(ticker.MultipleLocator(len(date)/3))\n",
        "        ax.set_xlabel('Date')\n",
        "        ax.set_ylabel('USD ($)')\n",
        "        ax.set_title('1-Year Price History')\n",
        "        \n",
        "\n",
        "        \n"
      ],
      "execution_count": null,
      "outputs": []
    },
    {
      "cell_type": "markdown",
      "metadata": {
        "id": "Cuc7CyL5OZLv"
      },
      "source": [
        ""
      ]
    },
    {
      "cell_type": "code",
      "metadata": {
        "id": "7ZbMLoGpG4-D"
      },
      "source": [
        ""
      ],
      "execution_count": null,
      "outputs": []
    },
    {
      "cell_type": "markdown",
      "metadata": {
        "id": "DNCCPktdOq59"
      },
      "source": [
        "# **Market Capitalisation of Top 5 Cryptocurrencies**"
      ]
    },
    {
      "cell_type": "code",
      "metadata": {
        "colab": {
          "base_uri": "https://localhost:8080/",
          "height": 248
        },
        "id": "92FoFxoKKs_I",
        "outputId": "f6638caa-f0cc-44ec-afaa-dbc232bb5983"
      },
      "source": [
        "Bitcoin = pd.read_csv('coin_Bitcoin.csv')['Marketcap'].sum()\n",
        "Ethereum = pd.read_csv('coin_Ethereum.csv')['Marketcap'].sum()\n",
        "Binance = pd.read_csv('coin_BinanceCoin.csv')['Marketcap'].sum()\n",
        "Doge = pd.read_csv('coin_Dogecoin.csv')['Marketcap'].sum()\n",
        "Xrp = pd.read_csv('coin_XRP.csv')['Marketcap'].sum()\n",
        "\n",
        "\n",
        "labels = ['Bitcoin', 'Ethereum', 'Binance', 'Dogecoin', 'Ripple']\n",
        "coins = [Bitcoin, Ethereum, Binance, Doge, Xrp]\n",
        "\n",
        "plt.pie(coins, labels = labels, autopct = '%1.2f%%')\n",
        "plt.legend()\n",
        "plt.show()"
      ],
      "execution_count": null,
      "outputs": [
        {
          "output_type": "display_data",
          "data": {
            "image/png": "[encoded data removed]",
            "text/plain": [
              "<Figure size 432x288 with 1 Axes>"
            ]
          },
          "metadata": {
            "tags": []
          }
        }
      ]
    },
    {
      "cell_type": "markdown",
      "metadata": {
        "id": "p5rIcHg9leKv"
      },
      "source": [
        "# **Bitcoin Analysis**\n",
        "\n"
      ]
    },
    {
      "cell_type": "code",
      "metadata": {
        "colab": {
          "base_uri": "https://localhost:8080/",
          "height": 419
        },
        "id": "m2WouW9g7SV-",
        "outputId": "0be828f2-91a7-437d-d4c2-2018958b9c16"
      },
      "source": [
        "bitcoin = Currency('Bitcoin')\n",
        "bitcoin.btc_data()"
      ],
      "execution_count": null,
      "outputs": [
        {
          "output_type": "execute_result",
          "data": {
            "text/html": [
              "<div>\n",
              "<style scoped>\n",
              "    .dataframe tbody tr th:only-of-type {\n",
              "        vertical-align: middle;\n",
              "    }\n",
              "\n",
              "    .dataframe tbody tr th {\n",
              "        vertical-align: top;\n",
              "    }\n",
              "\n",
              "    .dataframe thead th {\n",
              "        text-align: right;\n",
              "    }\n",
              "</style>\n",
              "<table border=\"1\" class=\"dataframe\">\n",
              "  <thead>\n",
              "    <tr style=\"text-align: right;\">\n",
              "      <th></th>\n",
              "      <th>SNo</th>\n",
              "      <th>Name</th>\n",
              "      <th>Symbol</th>\n",
              "      <th>Date</th>\n",
              "      <th>High</th>\n",
              "      <th>Low</th>\n",
              "      <th>Open</th>\n",
              "      <th>Close</th>\n",
              "      <th>Volume</th>\n",
              "      <th>Marketcap</th>\n",
              "    </tr>\n",
              "  </thead>\n",
              "  <tbody>\n",
              "    <tr>\n",
              "      <th>0</th>\n",
              "      <td>1</td>\n",
              "      <td>Bitcoin</td>\n",
              "      <td>BTC</td>\n",
              "      <td>2013-04-29 23:59:59</td>\n",
              "      <td>147.488007</td>\n",
              "      <td>134.000000</td>\n",
              "      <td>134.444000</td>\n",
              "      <td>144.539993</td>\n",
              "      <td>0.000000e+00</td>\n",
              "      <td>1.603769e+09</td>\n",
              "    </tr>\n",
              "    <tr>\n",
              "      <th>1</th>\n",
              "      <td>2</td>\n",
              "      <td>Bitcoin</td>\n",
              "      <td>BTC</td>\n",
              "      <td>2013-04-30 23:59:59</td>\n",
              "      <td>146.929993</td>\n",
              "      <td>134.050003</td>\n",
              "      <td>144.000000</td>\n",
              "      <td>139.000000</td>\n",
              "      <td>0.000000e+00</td>\n",
              "      <td>1.542813e+09</td>\n",
              "    </tr>\n",
              "    <tr>\n",
              "      <th>2</th>\n",
              "      <td>3</td>\n",
              "      <td>Bitcoin</td>\n",
              "      <td>BTC</td>\n",
              "      <td>2013-05-01 23:59:59</td>\n",
              "      <td>139.889999</td>\n",
              "      <td>107.720001</td>\n",
              "      <td>139.000000</td>\n",
              "      <td>116.989998</td>\n",
              "      <td>0.000000e+00</td>\n",
              "      <td>1.298955e+09</td>\n",
              "    </tr>\n",
              "    <tr>\n",
              "      <th>3</th>\n",
              "      <td>4</td>\n",
              "      <td>Bitcoin</td>\n",
              "      <td>BTC</td>\n",
              "      <td>2013-05-02 23:59:59</td>\n",
              "      <td>125.599998</td>\n",
              "      <td>92.281898</td>\n",
              "      <td>116.379997</td>\n",
              "      <td>105.209999</td>\n",
              "      <td>0.000000e+00</td>\n",
              "      <td>1.168517e+09</td>\n",
              "    </tr>\n",
              "    <tr>\n",
              "      <th>4</th>\n",
              "      <td>5</td>\n",
              "      <td>Bitcoin</td>\n",
              "      <td>BTC</td>\n",
              "      <td>2013-05-03 23:59:59</td>\n",
              "      <td>108.127998</td>\n",
              "      <td>79.099998</td>\n",
              "      <td>106.250000</td>\n",
              "      <td>97.750000</td>\n",
              "      <td>0.000000e+00</td>\n",
              "      <td>1.085995e+09</td>\n",
              "    </tr>\n",
              "    <tr>\n",
              "      <th>...</th>\n",
              "      <td>...</td>\n",
              "      <td>...</td>\n",
              "      <td>...</td>\n",
              "      <td>...</td>\n",
              "      <td>...</td>\n",
              "      <td>...</td>\n",
              "      <td>...</td>\n",
              "      <td>...</td>\n",
              "      <td>...</td>\n",
              "      <td>...</td>\n",
              "    </tr>\n",
              "    <tr>\n",
              "      <th>2857</th>\n",
              "      <td>2858</td>\n",
              "      <td>Bitcoin</td>\n",
              "      <td>BTC</td>\n",
              "      <td>2021-02-23 23:59:59</td>\n",
              "      <td>54204.929756</td>\n",
              "      <td>45290.590268</td>\n",
              "      <td>54204.929756</td>\n",
              "      <td>48824.426869</td>\n",
              "      <td>1.061025e+11</td>\n",
              "      <td>9.099259e+11</td>\n",
              "    </tr>\n",
              "    <tr>\n",
              "      <th>2858</th>\n",
              "      <td>2859</td>\n",
              "      <td>Bitcoin</td>\n",
              "      <td>BTC</td>\n",
              "      <td>2021-02-24 23:59:59</td>\n",
              "      <td>51290.136695</td>\n",
              "      <td>47213.498162</td>\n",
              "      <td>48835.087661</td>\n",
              "      <td>49705.333316</td>\n",
              "      <td>6.369552e+10</td>\n",
              "      <td>9.263931e+11</td>\n",
              "    </tr>\n",
              "    <tr>\n",
              "      <th>2859</th>\n",
              "      <td>2860</td>\n",
              "      <td>Bitcoin</td>\n",
              "      <td>BTC</td>\n",
              "      <td>2021-02-25 23:59:59</td>\n",
              "      <td>51948.966982</td>\n",
              "      <td>47093.853019</td>\n",
              "      <td>49709.082425</td>\n",
              "      <td>47093.853019</td>\n",
              "      <td>5.450657e+10</td>\n",
              "      <td>8.777661e+11</td>\n",
              "    </tr>\n",
              "    <tr>\n",
              "      <th>2860</th>\n",
              "      <td>2861</td>\n",
              "      <td>Bitcoin</td>\n",
              "      <td>BTC</td>\n",
              "      <td>2021-02-26 23:59:59</td>\n",
              "      <td>48370.785260</td>\n",
              "      <td>44454.842114</td>\n",
              "      <td>47180.464054</td>\n",
              "      <td>46339.760083</td>\n",
              "      <td>3.509679e+11</td>\n",
              "      <td>8.637523e+11</td>\n",
              "    </tr>\n",
              "    <tr>\n",
              "      <th>2861</th>\n",
              "      <td>2862</td>\n",
              "      <td>Bitcoin</td>\n",
              "      <td>BTC</td>\n",
              "      <td>2021-02-27 23:59:59</td>\n",
              "      <td>48253.270101</td>\n",
              "      <td>45269.025766</td>\n",
              "      <td>46344.772237</td>\n",
              "      <td>46188.451275</td>\n",
              "      <td>4.591095e+10</td>\n",
              "      <td>8.609781e+11</td>\n",
              "    </tr>\n",
              "  </tbody>\n",
              "</table>\n",
              "<p>2862 rows × 10 columns</p>\n",
              "</div>"
            ],
            "text/plain": [
              "       SNo     Name Symbol  ...         Close        Volume     Marketcap\n",
              "0        1  Bitcoin    BTC  ...    144.539993  0.000000e+00  1.603769e+09\n",
              "1        2  Bitcoin    BTC  ...    139.000000  0.000000e+00  1.542813e+09\n",
              "2        3  Bitcoin    BTC  ...    116.989998  0.000000e+00  1.298955e+09\n",
              "3        4  Bitcoin    BTC  ...    105.209999  0.000000e+00  1.168517e+09\n",
              "4        5  Bitcoin    BTC  ...     97.750000  0.000000e+00  1.085995e+09\n",
              "...    ...      ...    ...  ...           ...           ...           ...\n",
              "2857  2858  Bitcoin    BTC  ...  48824.426869  1.061025e+11  9.099259e+11\n",
              "2858  2859  Bitcoin    BTC  ...  49705.333316  6.369552e+10  9.263931e+11\n",
              "2859  2860  Bitcoin    BTC  ...  47093.853019  5.450657e+10  8.777661e+11\n",
              "2860  2861  Bitcoin    BTC  ...  46339.760083  3.509679e+11  8.637523e+11\n",
              "2861  2862  Bitcoin    BTC  ...  46188.451275  4.591095e+10  8.609781e+11\n",
              "\n",
              "[2862 rows x 10 columns]"
            ]
          },
          "metadata": {
            "tags": []
          },
          "execution_count": 53
        }
      ]
    },
    {
      "cell_type": "code",
      "metadata": {
        "colab": {
          "base_uri": "https://localhost:8080/",
          "height": 575
        },
        "id": "sAF0VQ9H7SV_",
        "outputId": "0c9299e9-6f76-4112-8855-5552470fded5"
      },
      "source": [
        "bitcoin.data_description()"
      ],
      "execution_count": null,
      "outputs": [
        {
          "output_type": "execute_result",
          "data": {
            "text/html": [
              "<div>\n",
              "<style scoped>\n",
              "    .dataframe tbody tr th:only-of-type {\n",
              "        vertical-align: middle;\n",
              "    }\n",
              "\n",
              "    .dataframe tbody tr th {\n",
              "        vertical-align: top;\n",
              "    }\n",
              "\n",
              "    .dataframe thead th {\n",
              "        text-align: right;\n",
              "    }\n",
              "</style>\n",
              "<table border=\"1\" class=\"dataframe\">\n",
              "  <thead>\n",
              "    <tr style=\"text-align: right;\">\n",
              "      <th></th>\n",
              "      <th>SNo</th>\n",
              "      <th>High</th>\n",
              "      <th>Low</th>\n",
              "      <th>Open</th>\n",
              "      <th>Close</th>\n",
              "      <th>Volume</th>\n",
              "      <th>Marketcap</th>\n",
              "    </tr>\n",
              "  </thead>\n",
              "  <tbody>\n",
              "    <tr>\n",
              "      <th>count</th>\n",
              "      <td>2862.00000</td>\n",
              "      <td>2862.000000</td>\n",
              "      <td>2862.000000</td>\n",
              "      <td>2862.000000</td>\n",
              "      <td>2862.000000</td>\n",
              "      <td>2.862000e+03</td>\n",
              "      <td>2.862000e+03</td>\n",
              "    </tr>\n",
              "    <tr>\n",
              "      <th>mean</th>\n",
              "      <td>1431.50000</td>\n",
              "      <td>4974.040239</td>\n",
              "      <td>4695.103027</td>\n",
              "      <td>4836.306834</td>\n",
              "      <td>4852.092547</td>\n",
              "      <td>8.978475e+09</td>\n",
              "      <td>8.591622e+10</td>\n",
              "    </tr>\n",
              "    <tr>\n",
              "      <th>std</th>\n",
              "      <td>826.33256</td>\n",
              "      <td>7188.836678</td>\n",
              "      <td>6667.197596</td>\n",
              "      <td>6933.573446</td>\n",
              "      <td>6975.105869</td>\n",
              "      <td>1.658135e+10</td>\n",
              "      <td>1.287414e+11</td>\n",
              "    </tr>\n",
              "    <tr>\n",
              "      <th>min</th>\n",
              "      <td>1.00000</td>\n",
              "      <td>74.561096</td>\n",
              "      <td>65.526001</td>\n",
              "      <td>68.504997</td>\n",
              "      <td>68.431000</td>\n",
              "      <td>0.000000e+00</td>\n",
              "      <td>7.784112e+08</td>\n",
              "    </tr>\n",
              "    <tr>\n",
              "      <th>25%</th>\n",
              "      <td>716.25000</td>\n",
              "      <td>426.047752</td>\n",
              "      <td>415.675751</td>\n",
              "      <td>421.204506</td>\n",
              "      <td>420.989243</td>\n",
              "      <td>2.786250e+07</td>\n",
              "      <td>5.988997e+09</td>\n",
              "    </tr>\n",
              "    <tr>\n",
              "      <th>50%</th>\n",
              "      <td>1431.50000</td>\n",
              "      <td>1197.334961</td>\n",
              "      <td>1164.174988</td>\n",
              "      <td>1180.100037</td>\n",
              "      <td>1182.809998</td>\n",
              "      <td>3.301950e+08</td>\n",
              "      <td>1.924238e+10</td>\n",
              "    </tr>\n",
              "    <tr>\n",
              "      <th>75%</th>\n",
              "      <td>2146.75000</td>\n",
              "      <td>8138.046589</td>\n",
              "      <td>7703.357500</td>\n",
              "      <td>7924.612338</td>\n",
              "      <td>7926.696939</td>\n",
              "      <td>1.296743e+10</td>\n",
              "      <td>1.387658e+11</td>\n",
              "    </tr>\n",
              "    <tr>\n",
              "      <th>max</th>\n",
              "      <td>2862.00000</td>\n",
              "      <td>58330.572142</td>\n",
              "      <td>55672.609513</td>\n",
              "      <td>57532.738864</td>\n",
              "      <td>57539.943668</td>\n",
              "      <td>3.509679e+11</td>\n",
              "      <td>1.072263e+12</td>\n",
              "    </tr>\n",
              "  </tbody>\n",
              "</table>\n",
              "</div>"
            ],
            "text/plain": [
              "              SNo          High  ...        Volume     Marketcap\n",
              "count  2862.00000   2862.000000  ...  2.862000e+03  2.862000e+03\n",
              "mean   1431.50000   4974.040239  ...  8.978475e+09  8.591622e+10\n",
              "std     826.33256   7188.836678  ...  1.658135e+10  1.287414e+11\n",
              "min       1.00000     74.561096  ...  0.000000e+00  7.784112e+08\n",
              "25%     716.25000    426.047752  ...  2.786250e+07  5.988997e+09\n",
              "50%    1431.50000   1197.334961  ...  3.301950e+08  1.924238e+10\n",
              "75%    2146.75000   8138.046589  ...  1.296743e+10  1.387658e+11\n",
              "max    2862.00000  58330.572142  ...  3.509679e+11  1.072263e+12\n",
              "\n",
              "[8 rows x 7 columns]"
            ]
          },
          "metadata": {
            "tags": []
          },
          "execution_count": 54
        },
        {
          "output_type": "display_data",
          "data": {
            "image/png": "[encoded data removed]",
            "text/plain": [
              "<Figure size 432x288 with 1 Axes>"
            ]
          },
          "metadata": {
            "tags": [],
            "needs_background": "light"
          }
        }
      ]
    },
    {
      "cell_type": "code",
      "metadata": {
        "colab": {
          "base_uri": "https://localhost:8080/",
          "height": 419
        },
        "id": "-O2kVstyspSf",
        "outputId": "03bd42c7-1efe-4335-a9c0-dedb41cef753"
      },
      "source": [
        "bitcoin.pluscolumn()"
      ],
      "execution_count": null,
      "outputs": [
        {
          "output_type": "execute_result",
          "data": {
            "text/html": [
              "<div>\n",
              "<style scoped>\n",
              "    .dataframe tbody tr th:only-of-type {\n",
              "        vertical-align: middle;\n",
              "    }\n",
              "\n",
              "    .dataframe tbody tr th {\n",
              "        vertical-align: top;\n",
              "    }\n",
              "\n",
              "    .dataframe thead th {\n",
              "        text-align: right;\n",
              "    }\n",
              "</style>\n",
              "<table border=\"1\" class=\"dataframe\">\n",
              "  <thead>\n",
              "    <tr style=\"text-align: right;\">\n",
              "      <th></th>\n",
              "      <th>SNo</th>\n",
              "      <th>Name</th>\n",
              "      <th>Symbol</th>\n",
              "      <th>Date</th>\n",
              "      <th>High</th>\n",
              "      <th>Low</th>\n",
              "      <th>Open</th>\n",
              "      <th>Close</th>\n",
              "      <th>Volume</th>\n",
              "      <th>Marketcap</th>\n",
              "      <th>dayspredict</th>\n",
              "    </tr>\n",
              "  </thead>\n",
              "  <tbody>\n",
              "    <tr>\n",
              "      <th>0</th>\n",
              "      <td>1</td>\n",
              "      <td>Bitcoin</td>\n",
              "      <td>BTC</td>\n",
              "      <td>2013-04-29 23:59:59</td>\n",
              "      <td>147.488007</td>\n",
              "      <td>134.000000</td>\n",
              "      <td>134.444000</td>\n",
              "      <td>144.539993</td>\n",
              "      <td>0.000000e+00</td>\n",
              "      <td>1.603769e+09</td>\n",
              "      <td>112.669998</td>\n",
              "    </tr>\n",
              "    <tr>\n",
              "      <th>1</th>\n",
              "      <td>2</td>\n",
              "      <td>Bitcoin</td>\n",
              "      <td>BTC</td>\n",
              "      <td>2013-04-30 23:59:59</td>\n",
              "      <td>146.929993</td>\n",
              "      <td>134.050003</td>\n",
              "      <td>144.000000</td>\n",
              "      <td>139.000000</td>\n",
              "      <td>0.000000e+00</td>\n",
              "      <td>1.542813e+09</td>\n",
              "      <td>117.199997</td>\n",
              "    </tr>\n",
              "    <tr>\n",
              "      <th>2</th>\n",
              "      <td>3</td>\n",
              "      <td>Bitcoin</td>\n",
              "      <td>BTC</td>\n",
              "      <td>2013-05-01 23:59:59</td>\n",
              "      <td>139.889999</td>\n",
              "      <td>107.720001</td>\n",
              "      <td>139.000000</td>\n",
              "      <td>116.989998</td>\n",
              "      <td>0.000000e+00</td>\n",
              "      <td>1.298955e+09</td>\n",
              "      <td>115.242996</td>\n",
              "    </tr>\n",
              "    <tr>\n",
              "      <th>3</th>\n",
              "      <td>4</td>\n",
              "      <td>Bitcoin</td>\n",
              "      <td>BTC</td>\n",
              "      <td>2013-05-02 23:59:59</td>\n",
              "      <td>125.599998</td>\n",
              "      <td>92.281898</td>\n",
              "      <td>116.379997</td>\n",
              "      <td>105.209999</td>\n",
              "      <td>0.000000e+00</td>\n",
              "      <td>1.168517e+09</td>\n",
              "      <td>115.000000</td>\n",
              "    </tr>\n",
              "    <tr>\n",
              "      <th>4</th>\n",
              "      <td>5</td>\n",
              "      <td>Bitcoin</td>\n",
              "      <td>BTC</td>\n",
              "      <td>2013-05-03 23:59:59</td>\n",
              "      <td>108.127998</td>\n",
              "      <td>79.099998</td>\n",
              "      <td>106.250000</td>\n",
              "      <td>97.750000</td>\n",
              "      <td>0.000000e+00</td>\n",
              "      <td>1.085995e+09</td>\n",
              "      <td>117.980003</td>\n",
              "    </tr>\n",
              "    <tr>\n",
              "      <th>...</th>\n",
              "      <td>...</td>\n",
              "      <td>...</td>\n",
              "      <td>...</td>\n",
              "      <td>...</td>\n",
              "      <td>...</td>\n",
              "      <td>...</td>\n",
              "      <td>...</td>\n",
              "      <td>...</td>\n",
              "      <td>...</td>\n",
              "      <td>...</td>\n",
              "      <td>...</td>\n",
              "    </tr>\n",
              "    <tr>\n",
              "      <th>2857</th>\n",
              "      <td>2858</td>\n",
              "      <td>Bitcoin</td>\n",
              "      <td>BTC</td>\n",
              "      <td>2021-02-23 23:59:59</td>\n",
              "      <td>54204.929756</td>\n",
              "      <td>45290.590268</td>\n",
              "      <td>54204.929756</td>\n",
              "      <td>48824.426869</td>\n",
              "      <td>1.061025e+11</td>\n",
              "      <td>9.099259e+11</td>\n",
              "      <td>NaN</td>\n",
              "    </tr>\n",
              "    <tr>\n",
              "      <th>2858</th>\n",
              "      <td>2859</td>\n",
              "      <td>Bitcoin</td>\n",
              "      <td>BTC</td>\n",
              "      <td>2021-02-24 23:59:59</td>\n",
              "      <td>51290.136695</td>\n",
              "      <td>47213.498162</td>\n",
              "      <td>48835.087661</td>\n",
              "      <td>49705.333316</td>\n",
              "      <td>6.369552e+10</td>\n",
              "      <td>9.263931e+11</td>\n",
              "      <td>NaN</td>\n",
              "    </tr>\n",
              "    <tr>\n",
              "      <th>2859</th>\n",
              "      <td>2860</td>\n",
              "      <td>Bitcoin</td>\n",
              "      <td>BTC</td>\n",
              "      <td>2021-02-25 23:59:59</td>\n",
              "      <td>51948.966982</td>\n",
              "      <td>47093.853019</td>\n",
              "      <td>49709.082425</td>\n",
              "      <td>47093.853019</td>\n",
              "      <td>5.450657e+10</td>\n",
              "      <td>8.777661e+11</td>\n",
              "      <td>NaN</td>\n",
              "    </tr>\n",
              "    <tr>\n",
              "      <th>2860</th>\n",
              "      <td>2861</td>\n",
              "      <td>Bitcoin</td>\n",
              "      <td>BTC</td>\n",
              "      <td>2021-02-26 23:59:59</td>\n",
              "      <td>48370.785260</td>\n",
              "      <td>44454.842114</td>\n",
              "      <td>47180.464054</td>\n",
              "      <td>46339.760083</td>\n",
              "      <td>3.509679e+11</td>\n",
              "      <td>8.637523e+11</td>\n",
              "      <td>NaN</td>\n",
              "    </tr>\n",
              "    <tr>\n",
              "      <th>2861</th>\n",
              "      <td>2862</td>\n",
              "      <td>Bitcoin</td>\n",
              "      <td>BTC</td>\n",
              "      <td>2021-02-27 23:59:59</td>\n",
              "      <td>48253.270101</td>\n",
              "      <td>45269.025766</td>\n",
              "      <td>46344.772237</td>\n",
              "      <td>46188.451275</td>\n",
              "      <td>4.591095e+10</td>\n",
              "      <td>8.609781e+11</td>\n",
              "      <td>NaN</td>\n",
              "    </tr>\n",
              "  </tbody>\n",
              "</table>\n",
              "<p>2862 rows × 11 columns</p>\n",
              "</div>"
            ],
            "text/plain": [
              "       SNo     Name Symbol  ...        Volume     Marketcap  dayspredict\n",
              "0        1  Bitcoin    BTC  ...  0.000000e+00  1.603769e+09   112.669998\n",
              "1        2  Bitcoin    BTC  ...  0.000000e+00  1.542813e+09   117.199997\n",
              "2        3  Bitcoin    BTC  ...  0.000000e+00  1.298955e+09   115.242996\n",
              "3        4  Bitcoin    BTC  ...  0.000000e+00  1.168517e+09   115.000000\n",
              "4        5  Bitcoin    BTC  ...  0.000000e+00  1.085995e+09   117.980003\n",
              "...    ...      ...    ...  ...           ...           ...          ...\n",
              "2857  2858  Bitcoin    BTC  ...  1.061025e+11  9.099259e+11          NaN\n",
              "2858  2859  Bitcoin    BTC  ...  6.369552e+10  9.263931e+11          NaN\n",
              "2859  2860  Bitcoin    BTC  ...  5.450657e+10  8.777661e+11          NaN\n",
              "2860  2861  Bitcoin    BTC  ...  3.509679e+11  8.637523e+11          NaN\n",
              "2861  2862  Bitcoin    BTC  ...  4.591095e+10  8.609781e+11          NaN\n",
              "\n",
              "[2862 rows x 11 columns]"
            ]
          },
          "metadata": {
            "tags": []
          },
          "execution_count": 55
        }
      ]
    },
    {
      "cell_type": "code",
      "metadata": {
        "colab": {
          "base_uri": "https://localhost:8080/"
        },
        "id": "6UGZGFO9tIXe",
        "outputId": "230d01c4-5cbf-4f22-9e5b-21e31f8242e0"
      },
      "source": [
        "bitcoin.variable()"
      ],
      "execution_count": null,
      "outputs": [
        {
          "output_type": "execute_result",
          "data": {
            "text/plain": [
              "(2852, 2852)"
            ]
          },
          "metadata": {
            "tags": []
          },
          "execution_count": 56
        }
      ]
    },
    {
      "cell_type": "code",
      "metadata": {
        "id": "rqLoIEHCM77k",
        "colab": {
          "base_uri": "https://localhost:8080/"
        },
        "outputId": "6a84a51a-41d6-4849-869e-ece64026121f"
      },
      "source": [
        "bitcoin.split_data(x, y)\n",
        "print(bitcoin.lin_reg())\n",
        "print(bitcoin.lr_predict())\n"
      ],
      "execution_count": null,
      "outputs": [
        {
          "output_type": "stream",
          "text": [
            "Linear Regression Model Accuracy: 0.9211124104586779\n",
            " Coefficients: [[0.98487546]] \n",
            " Intercept: [85.78230375]\n",
            "Linear Regression Prediction: [51446.05985901]\n"
          ],
          "name": "stdout"
        }
      ]
    },
    {
      "cell_type": "code",
      "metadata": {
        "colab": {
          "base_uri": "https://localhost:8080/"
        },
        "id": "4tapKmm_j2rP",
        "outputId": "57dbdf3f-c2ab-4b1f-81ce-f7802b45c27e"
      },
      "source": [
        "print(bitcoin.svm())\n",
        "print(bitcoin.svr_predict())"
      ],
      "execution_count": null,
      "outputs": [
        {
          "output_type": "stream",
          "text": [
            "/usr/local/lib/python3.7/dist-packages/sklearn/utils/validation.py:760: DataConversionWarning: A column-vector y was passed when a 1d array was expected. Please change the shape of y to (n_samples, ), for example using ravel().\n",
            "  y = column_or_1d(y, warn=True)\n"
          ],
          "name": "stderr"
        },
        {
          "output_type": "stream",
          "text": [
            "SVM Model Accuracy: -0.965186831158013\n",
            "Support Vector Regression Prediction: 3537.844402873994\n"
          ],
          "name": "stdout"
        }
      ]
    },
    {
      "cell_type": "code",
      "metadata": {
        "colab": {
          "base_uri": "https://localhost:8080/",
          "height": 295
        },
        "id": "BMv1LuA0tDgo",
        "outputId": "9cff7a5b-6a00-42f7-ea3f-d011b1e34d17"
      },
      "source": [
        "bitcoin.dayspredict_visual()"
      ],
      "execution_count": null,
      "outputs": [
        {
          "output_type": "display_data",
          "data": {
            "image/png": "[encoded data removed]",
            "text/plain": [
              "<Figure size 432x288 with 1 Axes>"
            ]
          },
          "metadata": {
            "tags": [],
            "needs_background": "light"
          }
        }
      ]
    },
    {
      "cell_type": "code",
      "metadata": {
        "colab": {
          "base_uri": "https://localhost:8080/",
          "height": 902
        },
        "id": "_rFid3kkVx13",
        "outputId": "f2c4dc34-077a-4ea1-dc73-f0a3df14bf4a"
      },
      "source": [
        "print(bitcoin.price_prev_year())\n",
        "print(bitcoin.price_prev_6months())\n",
        "print(bitcoin.price_prev_30days())\n"
      ],
      "execution_count": null,
      "outputs": [
        {
          "output_type": "stream",
          "text": [
            "None\n",
            "None\n",
            "None\n"
          ],
          "name": "stdout"
        },
        {
          "output_type": "display_data",
          "data": {
            "image/png": "[encoded data removed]",
            "text/plain": [
              "<Figure size 432x288 with 1 Axes>"
            ]
          },
          "metadata": {
            "tags": [],
            "needs_background": "light"
          }
        },
        {
          "output_type": "display_data",
          "data": {
            "image/png": "[encoded data removed]",
            "text/plain": [
              "<Figure size 432x288 with 1 Axes>"
            ]
          },
          "metadata": {
            "tags": [],
            "needs_background": "light"
          }
        },
        {
          "output_type": "display_data",
          "data": {
            "image/png": "[encoded data removed]",
            "text/plain": [
              "<Figure size 432x288 with 1 Axes>"
            ]
          },
          "metadata": {
            "tags": [],
            "needs_background": "light"
          }
        }
      ]
    },
    {
      "cell_type": "code",
      "metadata": {
        "colab": {
          "base_uri": "https://localhost:8080/"
        },
        "id": "1OjUBQfF6HE5",
        "outputId": "2dc7f09f-661a-41b0-fdef-cc96fb56b745"
      },
      "source": [
        "print(bitcoin.lr_predict())\n",
        "print(bitcoin.svr_predict())"
      ],
      "execution_count": null,
      "outputs": [
        {
          "output_type": "stream",
          "text": [
            "Linear Regression Prediction: [9494.16007723]\n",
            "Support Vector Regression Prediction: 3537.844402873994\n"
          ],
          "name": "stdout"
        }
      ]
    },
    {
      "cell_type": "markdown",
      "metadata": {
        "id": "fQrfAlBpll_B"
      },
      "source": [
        "# **Ethereum** **Analysis** "
      ]
    },
    {
      "cell_type": "code",
      "metadata": {
        "colab": {
          "base_uri": "https://localhost:8080/",
          "height": 419
        },
        "id": "_HOGks8J7SV_",
        "outputId": "64352ac2-f5a9-48ff-abec-dcf9ee09182b"
      },
      "source": [
        "ethereum = Currency('Ethereum')\n",
        "ethereum.ether_data()"
      ],
      "execution_count": null,
      "outputs": [
        {
          "output_type": "execute_result",
          "data": {
            "text/html": [
              "<div>\n",
              "<style scoped>\n",
              "    .dataframe tbody tr th:only-of-type {\n",
              "        vertical-align: middle;\n",
              "    }\n",
              "\n",
              "    .dataframe tbody tr th {\n",
              "        vertical-align: top;\n",
              "    }\n",
              "\n",
              "    .dataframe thead th {\n",
              "        text-align: right;\n",
              "    }\n",
              "</style>\n",
              "<table border=\"1\" class=\"dataframe\">\n",
              "  <thead>\n",
              "    <tr style=\"text-align: right;\">\n",
              "      <th></th>\n",
              "      <th>SNo</th>\n",
              "      <th>Name</th>\n",
              "      <th>Symbol</th>\n",
              "      <th>Date</th>\n",
              "      <th>High</th>\n",
              "      <th>Low</th>\n",
              "      <th>Open</th>\n",
              "      <th>Close</th>\n",
              "      <th>Volume</th>\n",
              "      <th>Marketcap</th>\n",
              "    </tr>\n",
              "  </thead>\n",
              "  <tbody>\n",
              "    <tr>\n",
              "      <th>0</th>\n",
              "      <td>1</td>\n",
              "      <td>Ethereum</td>\n",
              "      <td>ETH</td>\n",
              "      <td>2015-08-08 23:59:59</td>\n",
              "      <td>2.798810</td>\n",
              "      <td>0.714725</td>\n",
              "      <td>2.793760</td>\n",
              "      <td>0.753325</td>\n",
              "      <td>6.741880e+05</td>\n",
              "      <td>4.548689e+07</td>\n",
              "    </tr>\n",
              "    <tr>\n",
              "      <th>1</th>\n",
              "      <td>2</td>\n",
              "      <td>Ethereum</td>\n",
              "      <td>ETH</td>\n",
              "      <td>2015-08-09 23:59:59</td>\n",
              "      <td>0.879810</td>\n",
              "      <td>0.629191</td>\n",
              "      <td>0.706136</td>\n",
              "      <td>0.701897</td>\n",
              "      <td>5.321700e+05</td>\n",
              "      <td>4.239957e+07</td>\n",
              "    </tr>\n",
              "    <tr>\n",
              "      <th>2</th>\n",
              "      <td>3</td>\n",
              "      <td>Ethereum</td>\n",
              "      <td>ETH</td>\n",
              "      <td>2015-08-10 23:59:59</td>\n",
              "      <td>0.729854</td>\n",
              "      <td>0.636546</td>\n",
              "      <td>0.713989</td>\n",
              "      <td>0.708448</td>\n",
              "      <td>4.052830e+05</td>\n",
              "      <td>4.281836e+07</td>\n",
              "    </tr>\n",
              "    <tr>\n",
              "      <th>3</th>\n",
              "      <td>4</td>\n",
              "      <td>Ethereum</td>\n",
              "      <td>ETH</td>\n",
              "      <td>2015-08-11 23:59:59</td>\n",
              "      <td>1.131410</td>\n",
              "      <td>0.663235</td>\n",
              "      <td>0.708087</td>\n",
              "      <td>1.067860</td>\n",
              "      <td>1.463100e+06</td>\n",
              "      <td>6.456929e+07</td>\n",
              "    </tr>\n",
              "    <tr>\n",
              "      <th>4</th>\n",
              "      <td>5</td>\n",
              "      <td>Ethereum</td>\n",
              "      <td>ETH</td>\n",
              "      <td>2015-08-12 23:59:59</td>\n",
              "      <td>1.289940</td>\n",
              "      <td>0.883608</td>\n",
              "      <td>1.058750</td>\n",
              "      <td>1.217440</td>\n",
              "      <td>2.150620e+06</td>\n",
              "      <td>7.364501e+07</td>\n",
              "    </tr>\n",
              "    <tr>\n",
              "      <th>...</th>\n",
              "      <td>...</td>\n",
              "      <td>...</td>\n",
              "      <td>...</td>\n",
              "      <td>...</td>\n",
              "      <td>...</td>\n",
              "      <td>...</td>\n",
              "      <td>...</td>\n",
              "      <td>...</td>\n",
              "      <td>...</td>\n",
              "      <td>...</td>\n",
              "    </tr>\n",
              "    <tr>\n",
              "      <th>2026</th>\n",
              "      <td>2027</td>\n",
              "      <td>Ethereum</td>\n",
              "      <td>ETH</td>\n",
              "      <td>2021-02-23 23:59:59</td>\n",
              "      <td>1781.409018</td>\n",
              "      <td>1378.840907</td>\n",
              "      <td>1781.409018</td>\n",
              "      <td>1570.203925</td>\n",
              "      <td>5.202986e+10</td>\n",
              "      <td>1.802510e+11</td>\n",
              "    </tr>\n",
              "    <tr>\n",
              "      <th>2027</th>\n",
              "      <td>2028</td>\n",
              "      <td>Ethereum</td>\n",
              "      <td>ETH</td>\n",
              "      <td>2021-02-24 23:59:59</td>\n",
              "      <td>1710.983795</td>\n",
              "      <td>1511.018963</td>\n",
              "      <td>1571.476497</td>\n",
              "      <td>1626.575705</td>\n",
              "      <td>3.132900e+10</td>\n",
              "      <td>1.867440e+11</td>\n",
              "    </tr>\n",
              "    <tr>\n",
              "      <th>2028</th>\n",
              "      <td>2029</td>\n",
              "      <td>Ethereum</td>\n",
              "      <td>ETH</td>\n",
              "      <td>2021-02-25 23:59:59</td>\n",
              "      <td>1670.224062</td>\n",
              "      <td>1465.058946</td>\n",
              "      <td>1625.393882</td>\n",
              "      <td>1475.703735</td>\n",
              "      <td>2.448168e+10</td>\n",
              "      <td>1.694427e+11</td>\n",
              "    </tr>\n",
              "    <tr>\n",
              "      <th>2029</th>\n",
              "      <td>2030</td>\n",
              "      <td>Ethereum</td>\n",
              "      <td>ETH</td>\n",
              "      <td>2021-02-26 23:59:59</td>\n",
              "      <td>1559.028891</td>\n",
              "      <td>1407.979253</td>\n",
              "      <td>1478.653270</td>\n",
              "      <td>1446.033650</td>\n",
              "      <td>3.143600e+10</td>\n",
              "      <td>1.660555e+11</td>\n",
              "    </tr>\n",
              "    <tr>\n",
              "      <th>2030</th>\n",
              "      <td>2031</td>\n",
              "      <td>Ethereum</td>\n",
              "      <td>ETH</td>\n",
              "      <td>2021-02-27 23:59:59</td>\n",
              "      <td>1524.932428</td>\n",
              "      <td>1433.786929</td>\n",
              "      <td>1446.929455</td>\n",
              "      <td>1459.973121</td>\n",
              "      <td>2.074210e+10</td>\n",
              "      <td>1.676759e+11</td>\n",
              "    </tr>\n",
              "  </tbody>\n",
              "</table>\n",
              "<p>2031 rows × 10 columns</p>\n",
              "</div>"
            ],
            "text/plain": [
              "       SNo      Name Symbol  ...        Close        Volume     Marketcap\n",
              "0        1  Ethereum    ETH  ...     0.753325  6.741880e+05  4.548689e+07\n",
              "1        2  Ethereum    ETH  ...     0.701897  5.321700e+05  4.239957e+07\n",
              "2        3  Ethereum    ETH  ...     0.708448  4.052830e+05  4.281836e+07\n",
              "3        4  Ethereum    ETH  ...     1.067860  1.463100e+06  6.456929e+07\n",
              "4        5  Ethereum    ETH  ...     1.217440  2.150620e+06  7.364501e+07\n",
              "...    ...       ...    ...  ...          ...           ...           ...\n",
              "2026  2027  Ethereum    ETH  ...  1570.203925  5.202986e+10  1.802510e+11\n",
              "2027  2028  Ethereum    ETH  ...  1626.575705  3.132900e+10  1.867440e+11\n",
              "2028  2029  Ethereum    ETH  ...  1475.703735  2.448168e+10  1.694427e+11\n",
              "2029  2030  Ethereum    ETH  ...  1446.033650  3.143600e+10  1.660555e+11\n",
              "2030  2031  Ethereum    ETH  ...  1459.973121  2.074210e+10  1.676759e+11\n",
              "\n",
              "[2031 rows x 10 columns]"
            ]
          },
          "metadata": {
            "tags": []
          },
          "execution_count": 79
        }
      ]
    },
    {
      "cell_type": "code",
      "metadata": {
        "colab": {
          "base_uri": "https://localhost:8080/",
          "height": 575
        },
        "id": "LoCeQgBP7SWA",
        "outputId": "b58e218b-b05f-4abd-e98d-82083a18f58b"
      },
      "source": [
        "ethereum.data_description()"
      ],
      "execution_count": null,
      "outputs": [
        {
          "output_type": "execute_result",
          "data": {
            "text/html": [
              "<div>\n",
              "<style scoped>\n",
              "    .dataframe tbody tr th:only-of-type {\n",
              "        vertical-align: middle;\n",
              "    }\n",
              "\n",
              "    .dataframe tbody tr th {\n",
              "        vertical-align: top;\n",
              "    }\n",
              "\n",
              "    .dataframe thead th {\n",
              "        text-align: right;\n",
              "    }\n",
              "</style>\n",
              "<table border=\"1\" class=\"dataframe\">\n",
              "  <thead>\n",
              "    <tr style=\"text-align: right;\">\n",
              "      <th></th>\n",
              "      <th>SNo</th>\n",
              "      <th>High</th>\n",
              "      <th>Low</th>\n",
              "      <th>Open</th>\n",
              "      <th>Close</th>\n",
              "      <th>Volume</th>\n",
              "      <th>Marketcap</th>\n",
              "    </tr>\n",
              "  </thead>\n",
              "  <tbody>\n",
              "    <tr>\n",
              "      <th>count</th>\n",
              "      <td>2031.000000</td>\n",
              "      <td>2031.000000</td>\n",
              "      <td>2031.000000</td>\n",
              "      <td>2031.000000</td>\n",
              "      <td>2031.000000</td>\n",
              "      <td>2.031000e+03</td>\n",
              "      <td>2.031000e+03</td>\n",
              "    </tr>\n",
              "    <tr>\n",
              "      <th>mean</th>\n",
              "      <td>1016.000000</td>\n",
              "      <td>267.068034</td>\n",
              "      <td>246.986450</td>\n",
              "      <td>257.490557</td>\n",
              "      <td>258.142275</td>\n",
              "      <td>5.429599e+09</td>\n",
              "      <td>2.698656e+10</td>\n",
              "    </tr>\n",
              "    <tr>\n",
              "      <th>std</th>\n",
              "      <td>586.443518</td>\n",
              "      <td>322.096221</td>\n",
              "      <td>292.253460</td>\n",
              "      <td>308.347903</td>\n",
              "      <td>309.321155</td>\n",
              "      <td>8.100359e+09</td>\n",
              "      <td>3.347336e+10</td>\n",
              "    </tr>\n",
              "    <tr>\n",
              "      <th>min</th>\n",
              "      <td>1.000000</td>\n",
              "      <td>0.482988</td>\n",
              "      <td>0.420897</td>\n",
              "      <td>0.431589</td>\n",
              "      <td>0.434829</td>\n",
              "      <td>1.021280e+05</td>\n",
              "      <td>3.221363e+07</td>\n",
              "    </tr>\n",
              "    <tr>\n",
              "      <th>25%</th>\n",
              "      <td>508.500000</td>\n",
              "      <td>13.221850</td>\n",
              "      <td>12.515050</td>\n",
              "      <td>12.858200</td>\n",
              "      <td>12.866100</td>\n",
              "      <td>2.848855e+07</td>\n",
              "      <td>1.086243e+09</td>\n",
              "    </tr>\n",
              "    <tr>\n",
              "      <th>50%</th>\n",
              "      <td>1016.000000</td>\n",
              "      <td>189.088865</td>\n",
              "      <td>180.317159</td>\n",
              "      <td>184.943356</td>\n",
              "      <td>185.028722</td>\n",
              "      <td>1.844270e+09</td>\n",
              "      <td>1.972963e+10</td>\n",
              "    </tr>\n",
              "    <tr>\n",
              "      <th>75%</th>\n",
              "      <td>1523.500000</td>\n",
              "      <td>342.238919</td>\n",
              "      <td>317.625992</td>\n",
              "      <td>332.716492</td>\n",
              "      <td>333.370499</td>\n",
              "      <td>7.944177e+09</td>\n",
              "      <td>3.280357e+10</td>\n",
              "    </tr>\n",
              "    <tr>\n",
              "      <th>max</th>\n",
              "      <td>2031.000000</td>\n",
              "      <td>2036.286493</td>\n",
              "      <td>1896.684508</td>\n",
              "      <td>1959.902977</td>\n",
              "      <td>1960.164744</td>\n",
              "      <td>6.073363e+10</td>\n",
              "      <td>2.249103e+11</td>\n",
              "    </tr>\n",
              "  </tbody>\n",
              "</table>\n",
              "</div>"
            ],
            "text/plain": [
              "               SNo         High  ...        Volume     Marketcap\n",
              "count  2031.000000  2031.000000  ...  2.031000e+03  2.031000e+03\n",
              "mean   1016.000000   267.068034  ...  5.429599e+09  2.698656e+10\n",
              "std     586.443518   322.096221  ...  8.100359e+09  3.347336e+10\n",
              "min       1.000000     0.482988  ...  1.021280e+05  3.221363e+07\n",
              "25%     508.500000    13.221850  ...  2.848855e+07  1.086243e+09\n",
              "50%    1016.000000   189.088865  ...  1.844270e+09  1.972963e+10\n",
              "75%    1523.500000   342.238919  ...  7.944177e+09  3.280357e+10\n",
              "max    2031.000000  2036.286493  ...  6.073363e+10  2.249103e+11\n",
              "\n",
              "[8 rows x 7 columns]"
            ]
          },
          "metadata": {
            "tags": []
          },
          "execution_count": 80
        },
        {
          "output_type": "display_data",
          "data": {
            "image/png": "[encoded data removed]",
            "text/plain": [
              "<Figure size 432x288 with 1 Axes>"
            ]
          },
          "metadata": {
            "tags": [],
            "needs_background": "light"
          }
        }
      ]
    },
    {
      "cell_type": "code",
      "metadata": {
        "colab": {
          "base_uri": "https://localhost:8080/",
          "height": 419
        },
        "id": "1bDKdDK2vv0D",
        "outputId": "20ea621c-48d0-4330-8ac1-e228526b57c6"
      },
      "source": [
        "ethereum.pluscolumn()"
      ],
      "execution_count": null,
      "outputs": [
        {
          "output_type": "execute_result",
          "data": {
            "text/html": [
              "<div>\n",
              "<style scoped>\n",
              "    .dataframe tbody tr th:only-of-type {\n",
              "        vertical-align: middle;\n",
              "    }\n",
              "\n",
              "    .dataframe tbody tr th {\n",
              "        vertical-align: top;\n",
              "    }\n",
              "\n",
              "    .dataframe thead th {\n",
              "        text-align: right;\n",
              "    }\n",
              "</style>\n",
              "<table border=\"1\" class=\"dataframe\">\n",
              "  <thead>\n",
              "    <tr style=\"text-align: right;\">\n",
              "      <th></th>\n",
              "      <th>SNo</th>\n",
              "      <th>Name</th>\n",
              "      <th>Symbol</th>\n",
              "      <th>Date</th>\n",
              "      <th>High</th>\n",
              "      <th>Low</th>\n",
              "      <th>Open</th>\n",
              "      <th>Close</th>\n",
              "      <th>Volume</th>\n",
              "      <th>Marketcap</th>\n",
              "      <th>dayspredict</th>\n",
              "    </tr>\n",
              "  </thead>\n",
              "  <tbody>\n",
              "    <tr>\n",
              "      <th>0</th>\n",
              "      <td>1</td>\n",
              "      <td>Ethereum</td>\n",
              "      <td>ETH</td>\n",
              "      <td>2015-08-08 23:59:59</td>\n",
              "      <td>2.798810</td>\n",
              "      <td>0.714725</td>\n",
              "      <td>2.793760</td>\n",
              "      <td>0.753325</td>\n",
              "      <td>6.741880e+05</td>\n",
              "      <td>4.548689e+07</td>\n",
              "      <td>1.08705</td>\n",
              "    </tr>\n",
              "    <tr>\n",
              "      <th>1</th>\n",
              "      <td>2</td>\n",
              "      <td>Ethereum</td>\n",
              "      <td>ETH</td>\n",
              "      <td>2015-08-09 23:59:59</td>\n",
              "      <td>0.879810</td>\n",
              "      <td>0.629191</td>\n",
              "      <td>0.706136</td>\n",
              "      <td>0.701897</td>\n",
              "      <td>5.321700e+05</td>\n",
              "      <td>4.239957e+07</td>\n",
              "      <td>1.25886</td>\n",
              "    </tr>\n",
              "    <tr>\n",
              "      <th>2</th>\n",
              "      <td>3</td>\n",
              "      <td>Ethereum</td>\n",
              "      <td>ETH</td>\n",
              "      <td>2015-08-10 23:59:59</td>\n",
              "      <td>0.729854</td>\n",
              "      <td>0.636546</td>\n",
              "      <td>0.713989</td>\n",
              "      <td>0.708448</td>\n",
              "      <td>4.052830e+05</td>\n",
              "      <td>4.281836e+07</td>\n",
              "      <td>1.46492</td>\n",
              "    </tr>\n",
              "    <tr>\n",
              "      <th>3</th>\n",
              "      <td>4</td>\n",
              "      <td>Ethereum</td>\n",
              "      <td>ETH</td>\n",
              "      <td>2015-08-11 23:59:59</td>\n",
              "      <td>1.131410</td>\n",
              "      <td>0.663235</td>\n",
              "      <td>0.708087</td>\n",
              "      <td>1.067860</td>\n",
              "      <td>1.463100e+06</td>\n",
              "      <td>6.456929e+07</td>\n",
              "      <td>1.39529</td>\n",
              "    </tr>\n",
              "    <tr>\n",
              "      <th>4</th>\n",
              "      <td>5</td>\n",
              "      <td>Ethereum</td>\n",
              "      <td>ETH</td>\n",
              "      <td>2015-08-12 23:59:59</td>\n",
              "      <td>1.289940</td>\n",
              "      <td>0.883608</td>\n",
              "      <td>1.058750</td>\n",
              "      <td>1.217440</td>\n",
              "      <td>2.150620e+06</td>\n",
              "      <td>7.364501e+07</td>\n",
              "      <td>1.37923</td>\n",
              "    </tr>\n",
              "    <tr>\n",
              "      <th>...</th>\n",
              "      <td>...</td>\n",
              "      <td>...</td>\n",
              "      <td>...</td>\n",
              "      <td>...</td>\n",
              "      <td>...</td>\n",
              "      <td>...</td>\n",
              "      <td>...</td>\n",
              "      <td>...</td>\n",
              "      <td>...</td>\n",
              "      <td>...</td>\n",
              "      <td>...</td>\n",
              "    </tr>\n",
              "    <tr>\n",
              "      <th>2026</th>\n",
              "      <td>2027</td>\n",
              "      <td>Ethereum</td>\n",
              "      <td>ETH</td>\n",
              "      <td>2021-02-23 23:59:59</td>\n",
              "      <td>1781.409018</td>\n",
              "      <td>1378.840907</td>\n",
              "      <td>1781.409018</td>\n",
              "      <td>1570.203925</td>\n",
              "      <td>5.202986e+10</td>\n",
              "      <td>1.802510e+11</td>\n",
              "      <td>NaN</td>\n",
              "    </tr>\n",
              "    <tr>\n",
              "      <th>2027</th>\n",
              "      <td>2028</td>\n",
              "      <td>Ethereum</td>\n",
              "      <td>ETH</td>\n",
              "      <td>2021-02-24 23:59:59</td>\n",
              "      <td>1710.983795</td>\n",
              "      <td>1511.018963</td>\n",
              "      <td>1571.476497</td>\n",
              "      <td>1626.575705</td>\n",
              "      <td>3.132900e+10</td>\n",
              "      <td>1.867440e+11</td>\n",
              "      <td>NaN</td>\n",
              "    </tr>\n",
              "    <tr>\n",
              "      <th>2028</th>\n",
              "      <td>2029</td>\n",
              "      <td>Ethereum</td>\n",
              "      <td>ETH</td>\n",
              "      <td>2021-02-25 23:59:59</td>\n",
              "      <td>1670.224062</td>\n",
              "      <td>1465.058946</td>\n",
              "      <td>1625.393882</td>\n",
              "      <td>1475.703735</td>\n",
              "      <td>2.448168e+10</td>\n",
              "      <td>1.694427e+11</td>\n",
              "      <td>NaN</td>\n",
              "    </tr>\n",
              "    <tr>\n",
              "      <th>2029</th>\n",
              "      <td>2030</td>\n",
              "      <td>Ethereum</td>\n",
              "      <td>ETH</td>\n",
              "      <td>2021-02-26 23:59:59</td>\n",
              "      <td>1559.028891</td>\n",
              "      <td>1407.979253</td>\n",
              "      <td>1478.653270</td>\n",
              "      <td>1446.033650</td>\n",
              "      <td>3.143600e+10</td>\n",
              "      <td>1.660555e+11</td>\n",
              "      <td>NaN</td>\n",
              "    </tr>\n",
              "    <tr>\n",
              "      <th>2030</th>\n",
              "      <td>2031</td>\n",
              "      <td>Ethereum</td>\n",
              "      <td>ETH</td>\n",
              "      <td>2021-02-27 23:59:59</td>\n",
              "      <td>1524.932428</td>\n",
              "      <td>1433.786929</td>\n",
              "      <td>1446.929455</td>\n",
              "      <td>1459.973121</td>\n",
              "      <td>2.074210e+10</td>\n",
              "      <td>1.676759e+11</td>\n",
              "      <td>NaN</td>\n",
              "    </tr>\n",
              "  </tbody>\n",
              "</table>\n",
              "<p>2031 rows × 11 columns</p>\n",
              "</div>"
            ],
            "text/plain": [
              "       SNo      Name Symbol  ...        Volume     Marketcap  dayspredict\n",
              "0        1  Ethereum    ETH  ...  6.741880e+05  4.548689e+07      1.08705\n",
              "1        2  Ethereum    ETH  ...  5.321700e+05  4.239957e+07      1.25886\n",
              "2        3  Ethereum    ETH  ...  4.052830e+05  4.281836e+07      1.46492\n",
              "3        4  Ethereum    ETH  ...  1.463100e+06  6.456929e+07      1.39529\n",
              "4        5  Ethereum    ETH  ...  2.150620e+06  7.364501e+07      1.37923\n",
              "...    ...       ...    ...  ...           ...           ...          ...\n",
              "2026  2027  Ethereum    ETH  ...  5.202986e+10  1.802510e+11          NaN\n",
              "2027  2028  Ethereum    ETH  ...  3.132900e+10  1.867440e+11          NaN\n",
              "2028  2029  Ethereum    ETH  ...  2.448168e+10  1.694427e+11          NaN\n",
              "2029  2030  Ethereum    ETH  ...  3.143600e+10  1.660555e+11          NaN\n",
              "2030  2031  Ethereum    ETH  ...  2.074210e+10  1.676759e+11          NaN\n",
              "\n",
              "[2031 rows x 11 columns]"
            ]
          },
          "metadata": {
            "tags": []
          },
          "execution_count": 81
        }
      ]
    },
    {
      "cell_type": "code",
      "metadata": {
        "colab": {
          "base_uri": "https://localhost:8080/"
        },
        "id": "qQWQoxkuv2_6",
        "outputId": "74d37107-f05e-4407-d16e-c36dc25bf7be"
      },
      "source": [
        "ethereum.variable()"
      ],
      "execution_count": null,
      "outputs": [
        {
          "output_type": "execute_result",
          "data": {
            "text/plain": [
              "(2021, 2021)"
            ]
          },
          "metadata": {
            "tags": []
          },
          "execution_count": 82
        }
      ]
    },
    {
      "cell_type": "code",
      "metadata": {
        "colab": {
          "base_uri": "https://localhost:8080/"
        },
        "id": "8QqpxojNGnhK",
        "outputId": "229efaf3-4c5f-4316-c323-a05607bac43c"
      },
      "source": [
        "ethereum.split_data(x, y)\n",
        "print(ethereum.lin_reg())\n",
        "print(ethereum.lr_predict())"
      ],
      "execution_count": null,
      "outputs": [
        {
          "output_type": "stream",
          "text": [
            "Linear Regression Model Accuracy: 0.9204824761340258\n",
            " Coefficients: [[0.95906021]] \n",
            " Intercept: [9.32169374]\n",
            "Linear Regression Prediction: [147.3916283]\n"
          ],
          "name": "stdout"
        }
      ]
    },
    {
      "cell_type": "code",
      "metadata": {
        "colab": {
          "base_uri": "https://localhost:8080/"
        },
        "id": "arJDpla8kGWy",
        "outputId": "479d2169-82ca-4680-ec70-a4b40106eb49"
      },
      "source": [
        "print(ethereum.svm())\n",
        "print(ethereum.svr_predict())"
      ],
      "execution_count": null,
      "outputs": [
        {
          "output_type": "stream",
          "text": [
            "/usr/local/lib/python3.7/dist-packages/sklearn/utils/validation.py:760: DataConversionWarning: A column-vector y was passed when a 1d array was expected. Please change the shape of y to (n_samples, ), for example using ravel().\n",
            "  y = column_or_1d(y, warn=True)\n"
          ],
          "name": "stderr"
        },
        {
          "output_type": "stream",
          "text": [
            "SVM Model Accuracy: 0.3111900272032957\n",
            "Support Vector Regression Prediction: 132.03497474882545\n"
          ],
          "name": "stdout"
        }
      ]
    },
    {
      "cell_type": "code",
      "metadata": {
        "colab": {
          "base_uri": "https://localhost:8080/",
          "height": 295
        },
        "id": "-iJJTO10v_uz",
        "outputId": "c1af9e30-e599-4ca9-e6c7-90e9ef0aedcb"
      },
      "source": [
        "ethereum.dayspredict_visual()"
      ],
      "execution_count": null,
      "outputs": [
        {
          "output_type": "display_data",
          "data": {
            "image/png": "[encoded data removed]",
            "text/plain": [
              "<Figure size 432x288 with 1 Axes>"
            ]
          },
          "metadata": {
            "tags": [],
            "needs_background": "light"
          }
        }
      ]
    },
    {
      "cell_type": "code",
      "metadata": {
        "colab": {
          "base_uri": "https://localhost:8080/",
          "height": 902
        },
        "id": "0O21MR6NO8bC",
        "outputId": "43255348-883c-4634-cbd0-8b75af7e81fe"
      },
      "source": [
        "print(ethereum.price_prev_year())\n",
        "print(ethereum.price_prev_6months())\n",
        "print(ethereum.price_prev_30days())"
      ],
      "execution_count": null,
      "outputs": [
        {
          "output_type": "stream",
          "text": [
            "None\n",
            "None\n",
            "None\n"
          ],
          "name": "stdout"
        },
        {
          "output_type": "display_data",
          "data": {
            "image/png": "[encoded data removed]",
            "text/plain": [
              "<Figure size 432x288 with 1 Axes>"
            ]
          },
          "metadata": {
            "tags": [],
            "needs_background": "light"
          }
        },
        {
          "output_type": "display_data",
          "data": {
            "image/png": "[encoded data removed]",
            "text/plain": [
              "<Figure size 432x288 with 1 Axes>"
            ]
          },
          "metadata": {
            "tags": [],
            "needs_background": "light"
          }
        },
        {
          "output_type": "display_data",
          "data": {
            "image/png": "[encoded data removed]",
            "text/plain": [
              "<Figure size 432x288 with 1 Axes>"
            ]
          },
          "metadata": {
            "tags": [],
            "needs_background": "light"
          }
        }
      ]
    },
    {
      "cell_type": "code",
      "metadata": {
        "id": "DLZX5cdnl5Eh"
      },
      "source": [
        ""
      ],
      "execution_count": null,
      "outputs": []
    },
    {
      "cell_type": "markdown",
      "metadata": {
        "id": "hrsAVLVql3Dp"
      },
      "source": [
        "# **Binance Analysis**"
      ]
    },
    {
      "cell_type": "code",
      "metadata": {
        "colab": {
          "base_uri": "https://localhost:8080/",
          "height": 419
        },
        "id": "rt4rrR9s7SWA",
        "outputId": "c50cdcd8-352f-4f44-f7d0-c97add0b1d04"
      },
      "source": [
        "binance = Currency('Binance Coin')\n",
        "binance.bnb_data()"
      ],
      "execution_count": null,
      "outputs": [
        {
          "output_type": "execute_result",
          "data": {
            "text/html": [
              "<div>\n",
              "<style scoped>\n",
              "    .dataframe tbody tr th:only-of-type {\n",
              "        vertical-align: middle;\n",
              "    }\n",
              "\n",
              "    .dataframe tbody tr th {\n",
              "        vertical-align: top;\n",
              "    }\n",
              "\n",
              "    .dataframe thead th {\n",
              "        text-align: right;\n",
              "    }\n",
              "</style>\n",
              "<table border=\"1\" class=\"dataframe\">\n",
              "  <thead>\n",
              "    <tr style=\"text-align: right;\">\n",
              "      <th></th>\n",
              "      <th>SNo</th>\n",
              "      <th>Name</th>\n",
              "      <th>Symbol</th>\n",
              "      <th>Date</th>\n",
              "      <th>High</th>\n",
              "      <th>Low</th>\n",
              "      <th>Open</th>\n",
              "      <th>Close</th>\n",
              "      <th>Volume</th>\n",
              "      <th>Marketcap</th>\n",
              "    </tr>\n",
              "  </thead>\n",
              "  <tbody>\n",
              "    <tr>\n",
              "      <th>0</th>\n",
              "      <td>1</td>\n",
              "      <td>Binance Coin</td>\n",
              "      <td>BNB</td>\n",
              "      <td>2017-07-26 23:59:59</td>\n",
              "      <td>0.109013</td>\n",
              "      <td>0.099266</td>\n",
              "      <td>0.105893</td>\n",
              "      <td>0.105138</td>\n",
              "      <td>2.003950e+05</td>\n",
              "      <td>1.051380e+07</td>\n",
              "    </tr>\n",
              "    <tr>\n",
              "      <th>1</th>\n",
              "      <td>2</td>\n",
              "      <td>Binance Coin</td>\n",
              "      <td>BNB</td>\n",
              "      <td>2017-07-27 23:59:59</td>\n",
              "      <td>0.108479</td>\n",
              "      <td>0.100888</td>\n",
              "      <td>0.105108</td>\n",
              "      <td>0.107737</td>\n",
              "      <td>3.444990e+05</td>\n",
              "      <td>1.077370e+07</td>\n",
              "    </tr>\n",
              "    <tr>\n",
              "      <th>2</th>\n",
              "      <td>3</td>\n",
              "      <td>Binance Coin</td>\n",
              "      <td>BNB</td>\n",
              "      <td>2017-07-28 23:59:59</td>\n",
              "      <td>0.109019</td>\n",
              "      <td>0.101473</td>\n",
              "      <td>0.107632</td>\n",
              "      <td>0.104067</td>\n",
              "      <td>3.425680e+05</td>\n",
              "      <td>1.040670e+07</td>\n",
              "    </tr>\n",
              "    <tr>\n",
              "      <th>3</th>\n",
              "      <td>4</td>\n",
              "      <td>Binance Coin</td>\n",
              "      <td>BNB</td>\n",
              "      <td>2017-07-29 23:59:59</td>\n",
              "      <td>0.111264</td>\n",
              "      <td>0.101108</td>\n",
              "      <td>0.104782</td>\n",
              "      <td>0.107811</td>\n",
              "      <td>3.402180e+05</td>\n",
              "      <td>1.078110e+07</td>\n",
              "    </tr>\n",
              "    <tr>\n",
              "      <th>4</th>\n",
              "      <td>5</td>\n",
              "      <td>Binance Coin</td>\n",
              "      <td>BNB</td>\n",
              "      <td>2017-07-30 23:59:59</td>\n",
              "      <td>0.108138</td>\n",
              "      <td>0.103162</td>\n",
              "      <td>0.107935</td>\n",
              "      <td>0.106414</td>\n",
              "      <td>2.242610e+05</td>\n",
              "      <td>1.064140e+07</td>\n",
              "    </tr>\n",
              "    <tr>\n",
              "      <th>...</th>\n",
              "      <td>...</td>\n",
              "      <td>...</td>\n",
              "      <td>...</td>\n",
              "      <td>...</td>\n",
              "      <td>...</td>\n",
              "      <td>...</td>\n",
              "      <td>...</td>\n",
              "      <td>...</td>\n",
              "      <td>...</td>\n",
              "      <td>...</td>\n",
              "    </tr>\n",
              "    <tr>\n",
              "      <th>1308</th>\n",
              "      <td>1309</td>\n",
              "      <td>Binance Coin</td>\n",
              "      <td>BNB</td>\n",
              "      <td>2021-02-23 23:59:59</td>\n",
              "      <td>268.536845</td>\n",
              "      <td>190.412463</td>\n",
              "      <td>267.364425</td>\n",
              "      <td>230.994252</td>\n",
              "      <td>8.280753e+09</td>\n",
              "      <td>3.569619e+10</td>\n",
              "    </tr>\n",
              "    <tr>\n",
              "      <th>1309</th>\n",
              "      <td>1310</td>\n",
              "      <td>Binance Coin</td>\n",
              "      <td>BNB</td>\n",
              "      <td>2021-02-24 23:59:59</td>\n",
              "      <td>280.088196</td>\n",
              "      <td>214.524714</td>\n",
              "      <td>231.121604</td>\n",
              "      <td>254.359132</td>\n",
              "      <td>7.154122e+09</td>\n",
              "      <td>3.930683e+10</td>\n",
              "    </tr>\n",
              "    <tr>\n",
              "      <th>1310</th>\n",
              "      <td>1311</td>\n",
              "      <td>Binance Coin</td>\n",
              "      <td>BNB</td>\n",
              "      <td>2021-02-25 23:59:59</td>\n",
              "      <td>264.705134</td>\n",
              "      <td>233.885956</td>\n",
              "      <td>254.467606</td>\n",
              "      <td>233.885956</td>\n",
              "      <td>4.059853e+09</td>\n",
              "      <td>3.614305e+10</td>\n",
              "    </tr>\n",
              "    <tr>\n",
              "      <th>1311</th>\n",
              "      <td>1312</td>\n",
              "      <td>Binance Coin</td>\n",
              "      <td>BNB</td>\n",
              "      <td>2021-02-26 23:59:59</td>\n",
              "      <td>238.755012</td>\n",
              "      <td>210.310761</td>\n",
              "      <td>235.270287</td>\n",
              "      <td>221.680429</td>\n",
              "      <td>4.167146e+09</td>\n",
              "      <td>3.425689e+10</td>\n",
              "    </tr>\n",
              "    <tr>\n",
              "      <th>1312</th>\n",
              "      <td>1313</td>\n",
              "      <td>Binance Coin</td>\n",
              "      <td>BNB</td>\n",
              "      <td>2021-02-27 23:59:59</td>\n",
              "      <td>237.179435</td>\n",
              "      <td>220.099401</td>\n",
              "      <td>221.980905</td>\n",
              "      <td>225.249443</td>\n",
              "      <td>2.755271e+09</td>\n",
              "      <td>3.480842e+10</td>\n",
              "    </tr>\n",
              "  </tbody>\n",
              "</table>\n",
              "<p>1313 rows × 10 columns</p>\n",
              "</div>"
            ],
            "text/plain": [
              "       SNo          Name Symbol  ...       Close        Volume     Marketcap\n",
              "0        1  Binance Coin    BNB  ...    0.105138  2.003950e+05  1.051380e+07\n",
              "1        2  Binance Coin    BNB  ...    0.107737  3.444990e+05  1.077370e+07\n",
              "2        3  Binance Coin    BNB  ...    0.104067  3.425680e+05  1.040670e+07\n",
              "3        4  Binance Coin    BNB  ...    0.107811  3.402180e+05  1.078110e+07\n",
              "4        5  Binance Coin    BNB  ...    0.106414  2.242610e+05  1.064140e+07\n",
              "...    ...           ...    ...  ...         ...           ...           ...\n",
              "1308  1309  Binance Coin    BNB  ...  230.994252  8.280753e+09  3.569619e+10\n",
              "1309  1310  Binance Coin    BNB  ...  254.359132  7.154122e+09  3.930683e+10\n",
              "1310  1311  Binance Coin    BNB  ...  233.885956  4.059853e+09  3.614305e+10\n",
              "1311  1312  Binance Coin    BNB  ...  221.680429  4.167146e+09  3.425689e+10\n",
              "1312  1313  Binance Coin    BNB  ...  225.249443  2.755271e+09  3.480842e+10\n",
              "\n",
              "[1313 rows x 10 columns]"
            ]
          },
          "metadata": {
            "tags": []
          },
          "execution_count": 87
        }
      ]
    },
    {
      "cell_type": "code",
      "metadata": {
        "colab": {
          "base_uri": "https://localhost:8080/",
          "height": 575
        },
        "id": "v-5fiszR7SWA",
        "outputId": "e5ae8e1a-ea15-46a7-9321-3368db63089f"
      },
      "source": [
        "binance.data_description()"
      ],
      "execution_count": null,
      "outputs": [
        {
          "output_type": "execute_result",
          "data": {
            "text/html": [
              "<div>\n",
              "<style scoped>\n",
              "    .dataframe tbody tr th:only-of-type {\n",
              "        vertical-align: middle;\n",
              "    }\n",
              "\n",
              "    .dataframe tbody tr th {\n",
              "        vertical-align: top;\n",
              "    }\n",
              "\n",
              "    .dataframe thead th {\n",
              "        text-align: right;\n",
              "    }\n",
              "</style>\n",
              "<table border=\"1\" class=\"dataframe\">\n",
              "  <thead>\n",
              "    <tr style=\"text-align: right;\">\n",
              "      <th></th>\n",
              "      <th>SNo</th>\n",
              "      <th>High</th>\n",
              "      <th>Low</th>\n",
              "      <th>Open</th>\n",
              "      <th>Close</th>\n",
              "      <th>Volume</th>\n",
              "      <th>Marketcap</th>\n",
              "    </tr>\n",
              "  </thead>\n",
              "  <tbody>\n",
              "    <tr>\n",
              "      <th>count</th>\n",
              "      <td>1313.000000</td>\n",
              "      <td>1313.000000</td>\n",
              "      <td>1313.000000</td>\n",
              "      <td>1313.000000</td>\n",
              "      <td>1313.000000</td>\n",
              "      <td>1.313000e+03</td>\n",
              "      <td>1.313000e+03</td>\n",
              "    </tr>\n",
              "    <tr>\n",
              "      <th>mean</th>\n",
              "      <td>657.000000</td>\n",
              "      <td>19.817551</td>\n",
              "      <td>18.049404</td>\n",
              "      <td>18.904878</td>\n",
              "      <td>19.071002</td>\n",
              "      <td>2.877394e+08</td>\n",
              "      <td>2.714483e+09</td>\n",
              "    </tr>\n",
              "    <tr>\n",
              "      <th>std</th>\n",
              "      <td>379.174762</td>\n",
              "      <td>27.153366</td>\n",
              "      <td>21.542034</td>\n",
              "      <td>24.328494</td>\n",
              "      <td>24.971663</td>\n",
              "      <td>8.213599e+08</td>\n",
              "      <td>3.886386e+09</td>\n",
              "    </tr>\n",
              "    <tr>\n",
              "      <th>min</th>\n",
              "      <td>1.000000</td>\n",
              "      <td>0.101211</td>\n",
              "      <td>0.096109</td>\n",
              "      <td>0.099721</td>\n",
              "      <td>0.099867</td>\n",
              "      <td>9.284190e+03</td>\n",
              "      <td>9.986680e+06</td>\n",
              "    </tr>\n",
              "    <tr>\n",
              "      <th>25%</th>\n",
              "      <td>329.000000</td>\n",
              "      <td>10.050000</td>\n",
              "      <td>9.476720</td>\n",
              "      <td>9.708670</td>\n",
              "      <td>9.715040</td>\n",
              "      <td>4.400100e+07</td>\n",
              "      <td>1.075576e+09</td>\n",
              "    </tr>\n",
              "    <tr>\n",
              "      <th>50%</th>\n",
              "      <td>657.000000</td>\n",
              "      <td>15.845876</td>\n",
              "      <td>14.949402</td>\n",
              "      <td>15.339182</td>\n",
              "      <td>15.322083</td>\n",
              "      <td>1.736839e+08</td>\n",
              "      <td>2.256062e+09</td>\n",
              "    </tr>\n",
              "    <tr>\n",
              "      <th>75%</th>\n",
              "      <td>985.000000</td>\n",
              "      <td>23.245484</td>\n",
              "      <td>21.690390</td>\n",
              "      <td>22.480199</td>\n",
              "      <td>22.514539</td>\n",
              "      <td>3.236722e+08</td>\n",
              "      <td>3.324492e+09</td>\n",
              "    </tr>\n",
              "    <tr>\n",
              "      <th>max</th>\n",
              "      <td>1313.000000</td>\n",
              "      <td>342.879593</td>\n",
              "      <td>250.540810</td>\n",
              "      <td>332.918442</td>\n",
              "      <td>332.616033</td>\n",
              "      <td>1.798295e+10</td>\n",
              "      <td>5.140008e+10</td>\n",
              "    </tr>\n",
              "  </tbody>\n",
              "</table>\n",
              "</div>"
            ],
            "text/plain": [
              "               SNo         High  ...        Volume     Marketcap\n",
              "count  1313.000000  1313.000000  ...  1.313000e+03  1.313000e+03\n",
              "mean    657.000000    19.817551  ...  2.877394e+08  2.714483e+09\n",
              "std     379.174762    27.153366  ...  8.213599e+08  3.886386e+09\n",
              "min       1.000000     0.101211  ...  9.284190e+03  9.986680e+06\n",
              "25%     329.000000    10.050000  ...  4.400100e+07  1.075576e+09\n",
              "50%     657.000000    15.845876  ...  1.736839e+08  2.256062e+09\n",
              "75%     985.000000    23.245484  ...  3.236722e+08  3.324492e+09\n",
              "max    1313.000000   342.879593  ...  1.798295e+10  5.140008e+10\n",
              "\n",
              "[8 rows x 7 columns]"
            ]
          },
          "metadata": {
            "tags": []
          },
          "execution_count": 88
        },
        {
          "output_type": "display_data",
          "data": {
            "image/png": "[encoded data removed]",
            "text/plain": [
              "<Figure size 432x288 with 1 Axes>"
            ]
          },
          "metadata": {
            "tags": [],
            "needs_background": "light"
          }
        }
      ]
    },
    {
      "cell_type": "code",
      "metadata": {
        "colab": {
          "base_uri": "https://localhost:8080/",
          "height": 419
        },
        "id": "5LVIuYtSwQhg",
        "outputId": "bdf7e0e7-cd0c-4144-fb01-4d132c1ab9c8"
      },
      "source": [
        "binance.pluscolumn()"
      ],
      "execution_count": null,
      "outputs": [
        {
          "output_type": "execute_result",
          "data": {
            "text/html": [
              "<div>\n",
              "<style scoped>\n",
              "    .dataframe tbody tr th:only-of-type {\n",
              "        vertical-align: middle;\n",
              "    }\n",
              "\n",
              "    .dataframe tbody tr th {\n",
              "        vertical-align: top;\n",
              "    }\n",
              "\n",
              "    .dataframe thead th {\n",
              "        text-align: right;\n",
              "    }\n",
              "</style>\n",
              "<table border=\"1\" class=\"dataframe\">\n",
              "  <thead>\n",
              "    <tr style=\"text-align: right;\">\n",
              "      <th></th>\n",
              "      <th>SNo</th>\n",
              "      <th>Name</th>\n",
              "      <th>Symbol</th>\n",
              "      <th>Date</th>\n",
              "      <th>High</th>\n",
              "      <th>Low</th>\n",
              "      <th>Open</th>\n",
              "      <th>Close</th>\n",
              "      <th>Volume</th>\n",
              "      <th>Marketcap</th>\n",
              "      <th>dayspredict</th>\n",
              "    </tr>\n",
              "  </thead>\n",
              "  <tbody>\n",
              "    <tr>\n",
              "      <th>0</th>\n",
              "      <td>1</td>\n",
              "      <td>Binance Coin</td>\n",
              "      <td>BNB</td>\n",
              "      <td>2017-07-26 23:59:59</td>\n",
              "      <td>0.109013</td>\n",
              "      <td>0.099266</td>\n",
              "      <td>0.105893</td>\n",
              "      <td>0.105138</td>\n",
              "      <td>2.003950e+05</td>\n",
              "      <td>1.051380e+07</td>\n",
              "      <td>0.128871</td>\n",
              "    </tr>\n",
              "    <tr>\n",
              "      <th>1</th>\n",
              "      <td>2</td>\n",
              "      <td>Binance Coin</td>\n",
              "      <td>BNB</td>\n",
              "      <td>2017-07-27 23:59:59</td>\n",
              "      <td>0.108479</td>\n",
              "      <td>0.100888</td>\n",
              "      <td>0.105108</td>\n",
              "      <td>0.107737</td>\n",
              "      <td>3.444990e+05</td>\n",
              "      <td>1.077370e+07</td>\n",
              "      <td>0.130999</td>\n",
              "    </tr>\n",
              "    <tr>\n",
              "      <th>2</th>\n",
              "      <td>3</td>\n",
              "      <td>Binance Coin</td>\n",
              "      <td>BNB</td>\n",
              "      <td>2017-07-28 23:59:59</td>\n",
              "      <td>0.109019</td>\n",
              "      <td>0.101473</td>\n",
              "      <td>0.107632</td>\n",
              "      <td>0.104067</td>\n",
              "      <td>3.425680e+05</td>\n",
              "      <td>1.040670e+07</td>\n",
              "      <td>0.148848</td>\n",
              "    </tr>\n",
              "    <tr>\n",
              "      <th>3</th>\n",
              "      <td>4</td>\n",
              "      <td>Binance Coin</td>\n",
              "      <td>BNB</td>\n",
              "      <td>2017-07-29 23:59:59</td>\n",
              "      <td>0.111264</td>\n",
              "      <td>0.101108</td>\n",
              "      <td>0.104782</td>\n",
              "      <td>0.107811</td>\n",
              "      <td>3.402180e+05</td>\n",
              "      <td>1.078110e+07</td>\n",
              "      <td>0.224421</td>\n",
              "    </tr>\n",
              "    <tr>\n",
              "      <th>4</th>\n",
              "      <td>5</td>\n",
              "      <td>Binance Coin</td>\n",
              "      <td>BNB</td>\n",
              "      <td>2017-07-30 23:59:59</td>\n",
              "      <td>0.108138</td>\n",
              "      <td>0.103162</td>\n",
              "      <td>0.107935</td>\n",
              "      <td>0.106414</td>\n",
              "      <td>2.242610e+05</td>\n",
              "      <td>1.064140e+07</td>\n",
              "      <td>0.242912</td>\n",
              "    </tr>\n",
              "    <tr>\n",
              "      <th>...</th>\n",
              "      <td>...</td>\n",
              "      <td>...</td>\n",
              "      <td>...</td>\n",
              "      <td>...</td>\n",
              "      <td>...</td>\n",
              "      <td>...</td>\n",
              "      <td>...</td>\n",
              "      <td>...</td>\n",
              "      <td>...</td>\n",
              "      <td>...</td>\n",
              "      <td>...</td>\n",
              "    </tr>\n",
              "    <tr>\n",
              "      <th>1308</th>\n",
              "      <td>1309</td>\n",
              "      <td>Binance Coin</td>\n",
              "      <td>BNB</td>\n",
              "      <td>2021-02-23 23:59:59</td>\n",
              "      <td>268.536845</td>\n",
              "      <td>190.412463</td>\n",
              "      <td>267.364425</td>\n",
              "      <td>230.994252</td>\n",
              "      <td>8.280753e+09</td>\n",
              "      <td>3.569619e+10</td>\n",
              "      <td>NaN</td>\n",
              "    </tr>\n",
              "    <tr>\n",
              "      <th>1309</th>\n",
              "      <td>1310</td>\n",
              "      <td>Binance Coin</td>\n",
              "      <td>BNB</td>\n",
              "      <td>2021-02-24 23:59:59</td>\n",
              "      <td>280.088196</td>\n",
              "      <td>214.524714</td>\n",
              "      <td>231.121604</td>\n",
              "      <td>254.359132</td>\n",
              "      <td>7.154122e+09</td>\n",
              "      <td>3.930683e+10</td>\n",
              "      <td>NaN</td>\n",
              "    </tr>\n",
              "    <tr>\n",
              "      <th>1310</th>\n",
              "      <td>1311</td>\n",
              "      <td>Binance Coin</td>\n",
              "      <td>BNB</td>\n",
              "      <td>2021-02-25 23:59:59</td>\n",
              "      <td>264.705134</td>\n",
              "      <td>233.885956</td>\n",
              "      <td>254.467606</td>\n",
              "      <td>233.885956</td>\n",
              "      <td>4.059853e+09</td>\n",
              "      <td>3.614305e+10</td>\n",
              "      <td>NaN</td>\n",
              "    </tr>\n",
              "    <tr>\n",
              "      <th>1311</th>\n",
              "      <td>1312</td>\n",
              "      <td>Binance Coin</td>\n",
              "      <td>BNB</td>\n",
              "      <td>2021-02-26 23:59:59</td>\n",
              "      <td>238.755012</td>\n",
              "      <td>210.310761</td>\n",
              "      <td>235.270287</td>\n",
              "      <td>221.680429</td>\n",
              "      <td>4.167146e+09</td>\n",
              "      <td>3.425689e+10</td>\n",
              "      <td>NaN</td>\n",
              "    </tr>\n",
              "    <tr>\n",
              "      <th>1312</th>\n",
              "      <td>1313</td>\n",
              "      <td>Binance Coin</td>\n",
              "      <td>BNB</td>\n",
              "      <td>2021-02-27 23:59:59</td>\n",
              "      <td>237.179435</td>\n",
              "      <td>220.099401</td>\n",
              "      <td>221.980905</td>\n",
              "      <td>225.249443</td>\n",
              "      <td>2.755271e+09</td>\n",
              "      <td>3.480842e+10</td>\n",
              "      <td>NaN</td>\n",
              "    </tr>\n",
              "  </tbody>\n",
              "</table>\n",
              "<p>1313 rows × 11 columns</p>\n",
              "</div>"
            ],
            "text/plain": [
              "       SNo          Name Symbol  ...        Volume     Marketcap  dayspredict\n",
              "0        1  Binance Coin    BNB  ...  2.003950e+05  1.051380e+07     0.128871\n",
              "1        2  Binance Coin    BNB  ...  3.444990e+05  1.077370e+07     0.130999\n",
              "2        3  Binance Coin    BNB  ...  3.425680e+05  1.040670e+07     0.148848\n",
              "3        4  Binance Coin    BNB  ...  3.402180e+05  1.078110e+07     0.224421\n",
              "4        5  Binance Coin    BNB  ...  2.242610e+05  1.064140e+07     0.242912\n",
              "...    ...           ...    ...  ...           ...           ...          ...\n",
              "1308  1309  Binance Coin    BNB  ...  8.280753e+09  3.569619e+10          NaN\n",
              "1309  1310  Binance Coin    BNB  ...  7.154122e+09  3.930683e+10          NaN\n",
              "1310  1311  Binance Coin    BNB  ...  4.059853e+09  3.614305e+10          NaN\n",
              "1311  1312  Binance Coin    BNB  ...  4.167146e+09  3.425689e+10          NaN\n",
              "1312  1313  Binance Coin    BNB  ...  2.755271e+09  3.480842e+10          NaN\n",
              "\n",
              "[1313 rows x 11 columns]"
            ]
          },
          "metadata": {
            "tags": []
          },
          "execution_count": 89
        }
      ]
    },
    {
      "cell_type": "code",
      "metadata": {
        "colab": {
          "base_uri": "https://localhost:8080/"
        },
        "id": "e-6lVEhawU0u",
        "outputId": "7ebf3113-d3a5-43a0-ba6e-6e254c391b00"
      },
      "source": [
        "binance.variable()"
      ],
      "execution_count": null,
      "outputs": [
        {
          "output_type": "execute_result",
          "data": {
            "text/plain": [
              "(1303, 1303)"
            ]
          },
          "metadata": {
            "tags": []
          },
          "execution_count": 90
        }
      ]
    },
    {
      "cell_type": "code",
      "metadata": {
        "colab": {
          "base_uri": "https://localhost:8080/"
        },
        "id": "LDE3wF_FG_rW",
        "outputId": "e3040c0b-43bd-45a3-eef8-50bb686adef6"
      },
      "source": [
        "binance.split_data(x, y)\n",
        "print(binance.lin_reg())\n",
        "print(binance.lr_predict())"
      ],
      "execution_count": null,
      "outputs": [
        {
          "output_type": "stream",
          "text": [
            "Linear Regression Model Accuracy: 0.5735661745958014\n",
            " Coefficients: [[0.93479991]] \n",
            " Intercept: [1.05990439]\n",
            "Linear Regression Prediction: [17.17520417]\n"
          ],
          "name": "stdout"
        }
      ]
    },
    {
      "cell_type": "code",
      "metadata": {
        "colab": {
          "base_uri": "https://localhost:8080/"
        },
        "id": "iQYPJyYMkuo-",
        "outputId": "9f329883-7258-4eea-f9b2-1a4199674909"
      },
      "source": [
        "print(binance.svm())\n",
        "print(binance.svr_predict())"
      ],
      "execution_count": null,
      "outputs": [
        {
          "output_type": "stream",
          "text": [
            "/usr/local/lib/python3.7/dist-packages/sklearn/utils/validation.py:760: DataConversionWarning: A column-vector y was passed when a 1d array was expected. Please change the shape of y to (n_samples, ), for example using ravel().\n",
            "  y = column_or_1d(y, warn=True)\n"
          ],
          "name": "stderr"
        },
        {
          "output_type": "stream",
          "text": [
            "SVM Model Accuracy: -0.1967436808065548\n",
            "Support Vector Regression Prediction: 17.633732124033525\n"
          ],
          "name": "stdout"
        }
      ]
    },
    {
      "cell_type": "code",
      "metadata": {
        "colab": {
          "base_uri": "https://localhost:8080/",
          "height": 295
        },
        "id": "WbToINxKwiMh",
        "outputId": "dc52e1e5-0414-483b-a1d9-ac91dfc23c03"
      },
      "source": [
        "binance.dayspredict_visual()"
      ],
      "execution_count": null,
      "outputs": [
        {
          "output_type": "display_data",
          "data": {
            "image/png": "[encoded data removed]",
            "text/plain": [
              "<Figure size 432x288 with 1 Axes>"
            ]
          },
          "metadata": {
            "tags": [],
            "needs_background": "light"
          }
        }
      ]
    },
    {
      "cell_type": "code",
      "metadata": {
        "colab": {
          "base_uri": "https://localhost:8080/",
          "height": 902
        },
        "id": "YjXo3YyvPL2r",
        "outputId": "2d56e3be-20f1-444e-c3d5-63d7b2b1d867"
      },
      "source": [
        "print(binance.price_prev_year())\n",
        "print(binance.price_prev_6months())\n",
        "print(binance.price_prev_30days())"
      ],
      "execution_count": null,
      "outputs": [
        {
          "output_type": "stream",
          "text": [
            "None\n",
            "None\n",
            "None\n"
          ],
          "name": "stdout"
        },
        {
          "output_type": "display_data",
          "data": {
            "image/png": "[encoded data removed]",
            "text/plain": [
              "<Figure size 432x288 with 1 Axes>"
            ]
          },
          "metadata": {
            "tags": [],
            "needs_background": "light"
          }
        },
        {
          "output_type": "display_data",
          "data": {
            "image/png": "[encoded data removed]",
            "text/plain": [
              "<Figure size 432x288 with 1 Axes>"
            ]
          },
          "metadata": {
            "tags": [],
            "needs_background": "light"
          }
        },
        {
          "output_type": "display_data",
          "data": {
            "image/png": "[encoded data removed]",
            "text/plain": [
              "<Figure size 432x288 with 1 Axes>"
            ]
          },
          "metadata": {
            "tags": [],
            "needs_background": "light"
          }
        }
      ]
    },
    {
      "cell_type": "code",
      "metadata": {
        "id": "1Fk81-tBPLlo"
      },
      "source": [
        ""
      ],
      "execution_count": null,
      "outputs": []
    },
    {
      "cell_type": "markdown",
      "metadata": {
        "id": "nxF5kdu7l--a"
      },
      "source": [
        "# **Dogecoin Analysis**"
      ]
    },
    {
      "cell_type": "code",
      "metadata": {
        "colab": {
          "base_uri": "https://localhost:8080/",
          "height": 419
        },
        "id": "6K462Ac-7SWB",
        "outputId": "10691d0d-a54a-4c35-8538-c7d3f0697f3b"
      },
      "source": [
        "doge = Currency('Dogecoin')\n",
        "doge.doge_data()"
      ],
      "execution_count": null,
      "outputs": [
        {
          "output_type": "execute_result",
          "data": {
            "text/html": [
              "<div>\n",
              "<style scoped>\n",
              "    .dataframe tbody tr th:only-of-type {\n",
              "        vertical-align: middle;\n",
              "    }\n",
              "\n",
              "    .dataframe tbody tr th {\n",
              "        vertical-align: top;\n",
              "    }\n",
              "\n",
              "    .dataframe thead th {\n",
              "        text-align: right;\n",
              "    }\n",
              "</style>\n",
              "<table border=\"1\" class=\"dataframe\">\n",
              "  <thead>\n",
              "    <tr style=\"text-align: right;\">\n",
              "      <th></th>\n",
              "      <th>SNo</th>\n",
              "      <th>Name</th>\n",
              "      <th>Symbol</th>\n",
              "      <th>Date</th>\n",
              "      <th>High</th>\n",
              "      <th>Low</th>\n",
              "      <th>Open</th>\n",
              "      <th>Close</th>\n",
              "      <th>Volume</th>\n",
              "      <th>Marketcap</th>\n",
              "    </tr>\n",
              "  </thead>\n",
              "  <tbody>\n",
              "    <tr>\n",
              "      <th>0</th>\n",
              "      <td>1</td>\n",
              "      <td>Dogecoin</td>\n",
              "      <td>DOGE</td>\n",
              "      <td>2013-12-16 23:59:59</td>\n",
              "      <td>0.000866</td>\n",
              "      <td>0.000150</td>\n",
              "      <td>0.000299</td>\n",
              "      <td>0.000205</td>\n",
              "      <td>0.000000e+00</td>\n",
              "      <td>1.509085e+06</td>\n",
              "    </tr>\n",
              "    <tr>\n",
              "      <th>1</th>\n",
              "      <td>2</td>\n",
              "      <td>Dogecoin</td>\n",
              "      <td>DOGE</td>\n",
              "      <td>2013-12-17 23:59:59</td>\n",
              "      <td>0.000289</td>\n",
              "      <td>0.000116</td>\n",
              "      <td>0.000207</td>\n",
              "      <td>0.000269</td>\n",
              "      <td>0.000000e+00</td>\n",
              "      <td>2.169688e+06</td>\n",
              "    </tr>\n",
              "    <tr>\n",
              "      <th>2</th>\n",
              "      <td>3</td>\n",
              "      <td>Dogecoin</td>\n",
              "      <td>DOGE</td>\n",
              "      <td>2013-12-18 23:59:59</td>\n",
              "      <td>0.000362</td>\n",
              "      <td>0.000205</td>\n",
              "      <td>0.000267</td>\n",
              "      <td>0.000362</td>\n",
              "      <td>0.000000e+00</td>\n",
              "      <td>3.188943e+06</td>\n",
              "    </tr>\n",
              "    <tr>\n",
              "      <th>3</th>\n",
              "      <td>4</td>\n",
              "      <td>Dogecoin</td>\n",
              "      <td>DOGE</td>\n",
              "      <td>2013-12-19 23:59:59</td>\n",
              "      <td>0.001520</td>\n",
              "      <td>0.000328</td>\n",
              "      <td>0.000395</td>\n",
              "      <td>0.001162</td>\n",
              "      <td>0.000000e+00</td>\n",
              "      <td>1.115034e+07</td>\n",
              "    </tr>\n",
              "    <tr>\n",
              "      <th>4</th>\n",
              "      <td>5</td>\n",
              "      <td>Dogecoin</td>\n",
              "      <td>DOGE</td>\n",
              "      <td>2013-12-20 23:59:59</td>\n",
              "      <td>0.001143</td>\n",
              "      <td>0.000662</td>\n",
              "      <td>0.001143</td>\n",
              "      <td>0.000704</td>\n",
              "      <td>0.000000e+00</td>\n",
              "      <td>7.284337e+06</td>\n",
              "    </tr>\n",
              "    <tr>\n",
              "      <th>...</th>\n",
              "      <td>...</td>\n",
              "      <td>...</td>\n",
              "      <td>...</td>\n",
              "      <td>...</td>\n",
              "      <td>...</td>\n",
              "      <td>...</td>\n",
              "      <td>...</td>\n",
              "      <td>...</td>\n",
              "      <td>...</td>\n",
              "      <td>...</td>\n",
              "    </tr>\n",
              "    <tr>\n",
              "      <th>2626</th>\n",
              "      <td>2627</td>\n",
              "      <td>Dogecoin</td>\n",
              "      <td>DOGE</td>\n",
              "      <td>2021-02-23 23:59:59</td>\n",
              "      <td>0.053768</td>\n",
              "      <td>0.042410</td>\n",
              "      <td>0.053698</td>\n",
              "      <td>0.047392</td>\n",
              "      <td>2.394345e+09</td>\n",
              "      <td>6.089686e+09</td>\n",
              "    </tr>\n",
              "    <tr>\n",
              "      <th>2627</th>\n",
              "      <td>2628</td>\n",
              "      <td>Dogecoin</td>\n",
              "      <td>DOGE</td>\n",
              "      <td>2021-02-24 23:59:59</td>\n",
              "      <td>0.059873</td>\n",
              "      <td>0.046216</td>\n",
              "      <td>0.047414</td>\n",
              "      <td>0.056555</td>\n",
              "      <td>4.148512e+09</td>\n",
              "      <td>7.267918e+09</td>\n",
              "    </tr>\n",
              "    <tr>\n",
              "      <th>2628</th>\n",
              "      <td>2629</td>\n",
              "      <td>Dogecoin</td>\n",
              "      <td>DOGE</td>\n",
              "      <td>2021-02-25 23:59:59</td>\n",
              "      <td>0.057808</td>\n",
              "      <td>0.049869</td>\n",
              "      <td>0.056615</td>\n",
              "      <td>0.050167</td>\n",
              "      <td>2.356982e+09</td>\n",
              "      <td>6.447665e+09</td>\n",
              "    </tr>\n",
              "    <tr>\n",
              "      <th>2629</th>\n",
              "      <td>2630</td>\n",
              "      <td>Dogecoin</td>\n",
              "      <td>DOGE</td>\n",
              "      <td>2021-02-26 23:59:59</td>\n",
              "      <td>0.052472</td>\n",
              "      <td>0.048708</td>\n",
              "      <td>0.050138</td>\n",
              "      <td>0.050480</td>\n",
              "      <td>1.694323e+09</td>\n",
              "      <td>6.488523e+09</td>\n",
              "    </tr>\n",
              "    <tr>\n",
              "      <th>2630</th>\n",
              "      <td>2631</td>\n",
              "      <td>Dogecoin</td>\n",
              "      <td>DOGE</td>\n",
              "      <td>2021-02-27 23:59:59</td>\n",
              "      <td>0.051920</td>\n",
              "      <td>0.049297</td>\n",
              "      <td>0.050500</td>\n",
              "      <td>0.050083</td>\n",
              "      <td>1.286230e+09</td>\n",
              "      <td>6.438193e+09</td>\n",
              "    </tr>\n",
              "  </tbody>\n",
              "</table>\n",
              "<p>2631 rows × 10 columns</p>\n",
              "</div>"
            ],
            "text/plain": [
              "       SNo      Name Symbol  ...     Close        Volume     Marketcap\n",
              "0        1  Dogecoin   DOGE  ...  0.000205  0.000000e+00  1.509085e+06\n",
              "1        2  Dogecoin   DOGE  ...  0.000269  0.000000e+00  2.169688e+06\n",
              "2        3  Dogecoin   DOGE  ...  0.000362  0.000000e+00  3.188943e+06\n",
              "3        4  Dogecoin   DOGE  ...  0.001162  0.000000e+00  1.115034e+07\n",
              "4        5  Dogecoin   DOGE  ...  0.000704  0.000000e+00  7.284337e+06\n",
              "...    ...       ...    ...  ...       ...           ...           ...\n",
              "2626  2627  Dogecoin   DOGE  ...  0.047392  2.394345e+09  6.089686e+09\n",
              "2627  2628  Dogecoin   DOGE  ...  0.056555  4.148512e+09  7.267918e+09\n",
              "2628  2629  Dogecoin   DOGE  ...  0.050167  2.356982e+09  6.447665e+09\n",
              "2629  2630  Dogecoin   DOGE  ...  0.050480  1.694323e+09  6.488523e+09\n",
              "2630  2631  Dogecoin   DOGE  ...  0.050083  1.286230e+09  6.438193e+09\n",
              "\n",
              "[2631 rows x 10 columns]"
            ]
          },
          "metadata": {
            "tags": []
          },
          "execution_count": 95
        }
      ]
    },
    {
      "cell_type": "code",
      "metadata": {
        "colab": {
          "base_uri": "https://localhost:8080/",
          "height": 575
        },
        "id": "kM5C7ZW47SWB",
        "outputId": "790acd8b-7fe7-4b2a-d66e-30e9070bbf04"
      },
      "source": [
        "doge.data_description()"
      ],
      "execution_count": null,
      "outputs": [
        {
          "output_type": "execute_result",
          "data": {
            "text/html": [
              "<div>\n",
              "<style scoped>\n",
              "    .dataframe tbody tr th:only-of-type {\n",
              "        vertical-align: middle;\n",
              "    }\n",
              "\n",
              "    .dataframe tbody tr th {\n",
              "        vertical-align: top;\n",
              "    }\n",
              "\n",
              "    .dataframe thead th {\n",
              "        text-align: right;\n",
              "    }\n",
              "</style>\n",
              "<table border=\"1\" class=\"dataframe\">\n",
              "  <thead>\n",
              "    <tr style=\"text-align: right;\">\n",
              "      <th></th>\n",
              "      <th>SNo</th>\n",
              "      <th>High</th>\n",
              "      <th>Low</th>\n",
              "      <th>Open</th>\n",
              "      <th>Close</th>\n",
              "      <th>Volume</th>\n",
              "      <th>Marketcap</th>\n",
              "    </tr>\n",
              "  </thead>\n",
              "  <tbody>\n",
              "    <tr>\n",
              "      <th>count</th>\n",
              "      <td>2631.000000</td>\n",
              "      <td>2631.000000</td>\n",
              "      <td>2631.000000</td>\n",
              "      <td>2631.000000</td>\n",
              "      <td>2631.000000</td>\n",
              "      <td>2.631000e+03</td>\n",
              "      <td>2.631000e+03</td>\n",
              "    </tr>\n",
              "    <tr>\n",
              "      <th>mean</th>\n",
              "      <td>1316.000000</td>\n",
              "      <td>0.002566</td>\n",
              "      <td>0.002243</td>\n",
              "      <td>0.002394</td>\n",
              "      <td>0.002410</td>\n",
              "      <td>1.063104e+08</td>\n",
              "      <td>2.874625e+08</td>\n",
              "    </tr>\n",
              "    <tr>\n",
              "      <th>std</th>\n",
              "      <td>759.648603</td>\n",
              "      <td>0.006796</td>\n",
              "      <td>0.005422</td>\n",
              "      <td>0.006064</td>\n",
              "      <td>0.006118</td>\n",
              "      <td>8.458638e+08</td>\n",
              "      <td>7.822927e+08</td>\n",
              "    </tr>\n",
              "    <tr>\n",
              "      <th>min</th>\n",
              "      <td>1.000000</td>\n",
              "      <td>0.000089</td>\n",
              "      <td>0.000085</td>\n",
              "      <td>0.000087</td>\n",
              "      <td>0.000087</td>\n",
              "      <td>0.000000e+00</td>\n",
              "      <td>1.509085e+06</td>\n",
              "    </tr>\n",
              "    <tr>\n",
              "      <th>25%</th>\n",
              "      <td>658.500000</td>\n",
              "      <td>0.000229</td>\n",
              "      <td>0.000220</td>\n",
              "      <td>0.000224</td>\n",
              "      <td>0.000224</td>\n",
              "      <td>2.338655e+05</td>\n",
              "      <td>2.314820e+07</td>\n",
              "    </tr>\n",
              "    <tr>\n",
              "      <th>50%</th>\n",
              "      <td>1316.000000</td>\n",
              "      <td>0.001645</td>\n",
              "      <td>0.001387</td>\n",
              "      <td>0.001523</td>\n",
              "      <td>0.001523</td>\n",
              "      <td>4.485170e+06</td>\n",
              "      <td>1.552847e+08</td>\n",
              "    </tr>\n",
              "    <tr>\n",
              "      <th>75%</th>\n",
              "      <td>1973.500000</td>\n",
              "      <td>0.002810</td>\n",
              "      <td>0.002625</td>\n",
              "      <td>0.002710</td>\n",
              "      <td>0.002714</td>\n",
              "      <td>3.863918e+07</td>\n",
              "      <td>3.298987e+08</td>\n",
              "    </tr>\n",
              "    <tr>\n",
              "      <th>max</th>\n",
              "      <td>2631.000000</td>\n",
              "      <td>0.084945</td>\n",
              "      <td>0.068525</td>\n",
              "      <td>0.078773</td>\n",
              "      <td>0.078825</td>\n",
              "      <td>2.540331e+10</td>\n",
              "      <td>1.011246e+10</td>\n",
              "    </tr>\n",
              "  </tbody>\n",
              "</table>\n",
              "</div>"
            ],
            "text/plain": [
              "               SNo         High  ...        Volume     Marketcap\n",
              "count  2631.000000  2631.000000  ...  2.631000e+03  2.631000e+03\n",
              "mean   1316.000000     0.002566  ...  1.063104e+08  2.874625e+08\n",
              "std     759.648603     0.006796  ...  8.458638e+08  7.822927e+08\n",
              "min       1.000000     0.000089  ...  0.000000e+00  1.509085e+06\n",
              "25%     658.500000     0.000229  ...  2.338655e+05  2.314820e+07\n",
              "50%    1316.000000     0.001645  ...  4.485170e+06  1.552847e+08\n",
              "75%    1973.500000     0.002810  ...  3.863918e+07  3.298987e+08\n",
              "max    2631.000000     0.084945  ...  2.540331e+10  1.011246e+10\n",
              "\n",
              "[8 rows x 7 columns]"
            ]
          },
          "metadata": {
            "tags": []
          },
          "execution_count": 96
        },
        {
          "output_type": "display_data",
          "data": {
            "image/png": "[encoded data removed]",
            "text/plain": [
              "<Figure size 432x288 with 1 Axes>"
            ]
          },
          "metadata": {
            "tags": [],
            "needs_background": "light"
          }
        }
      ]
    },
    {
      "cell_type": "code",
      "metadata": {
        "colab": {
          "base_uri": "https://localhost:8080/",
          "height": 419
        },
        "id": "N_PfnYgAwr-R",
        "outputId": "94f06903-a0fb-475a-d391-c73b5d99e927"
      },
      "source": [
        "doge.pluscolumn()"
      ],
      "execution_count": null,
      "outputs": [
        {
          "output_type": "execute_result",
          "data": {
            "text/html": [
              "<div>\n",
              "<style scoped>\n",
              "    .dataframe tbody tr th:only-of-type {\n",
              "        vertical-align: middle;\n",
              "    }\n",
              "\n",
              "    .dataframe tbody tr th {\n",
              "        vertical-align: top;\n",
              "    }\n",
              "\n",
              "    .dataframe thead th {\n",
              "        text-align: right;\n",
              "    }\n",
              "</style>\n",
              "<table border=\"1\" class=\"dataframe\">\n",
              "  <thead>\n",
              "    <tr style=\"text-align: right;\">\n",
              "      <th></th>\n",
              "      <th>SNo</th>\n",
              "      <th>Name</th>\n",
              "      <th>Symbol</th>\n",
              "      <th>Date</th>\n",
              "      <th>High</th>\n",
              "      <th>Low</th>\n",
              "      <th>Open</th>\n",
              "      <th>Close</th>\n",
              "      <th>Volume</th>\n",
              "      <th>Marketcap</th>\n",
              "      <th>dayspredict</th>\n",
              "    </tr>\n",
              "  </thead>\n",
              "  <tbody>\n",
              "    <tr>\n",
              "      <th>0</th>\n",
              "      <td>1</td>\n",
              "      <td>Dogecoin</td>\n",
              "      <td>DOGE</td>\n",
              "      <td>2013-12-16 23:59:59</td>\n",
              "      <td>0.000866</td>\n",
              "      <td>0.000150</td>\n",
              "      <td>0.000299</td>\n",
              "      <td>0.000205</td>\n",
              "      <td>0.000000e+00</td>\n",
              "      <td>1.509085e+06</td>\n",
              "      <td>0.000602</td>\n",
              "    </tr>\n",
              "    <tr>\n",
              "      <th>1</th>\n",
              "      <td>2</td>\n",
              "      <td>Dogecoin</td>\n",
              "      <td>DOGE</td>\n",
              "      <td>2013-12-17 23:59:59</td>\n",
              "      <td>0.000289</td>\n",
              "      <td>0.000116</td>\n",
              "      <td>0.000207</td>\n",
              "      <td>0.000269</td>\n",
              "      <td>0.000000e+00</td>\n",
              "      <td>2.169688e+06</td>\n",
              "      <td>0.000522</td>\n",
              "    </tr>\n",
              "    <tr>\n",
              "      <th>2</th>\n",
              "      <td>3</td>\n",
              "      <td>Dogecoin</td>\n",
              "      <td>DOGE</td>\n",
              "      <td>2013-12-18 23:59:59</td>\n",
              "      <td>0.000362</td>\n",
              "      <td>0.000205</td>\n",
              "      <td>0.000267</td>\n",
              "      <td>0.000362</td>\n",
              "      <td>0.000000e+00</td>\n",
              "      <td>3.188943e+06</td>\n",
              "      <td>0.000459</td>\n",
              "    </tr>\n",
              "    <tr>\n",
              "      <th>3</th>\n",
              "      <td>4</td>\n",
              "      <td>Dogecoin</td>\n",
              "      <td>DOGE</td>\n",
              "      <td>2013-12-19 23:59:59</td>\n",
              "      <td>0.001520</td>\n",
              "      <td>0.000328</td>\n",
              "      <td>0.000395</td>\n",
              "      <td>0.001162</td>\n",
              "      <td>0.000000e+00</td>\n",
              "      <td>1.115034e+07</td>\n",
              "      <td>0.000454</td>\n",
              "    </tr>\n",
              "    <tr>\n",
              "      <th>4</th>\n",
              "      <td>5</td>\n",
              "      <td>Dogecoin</td>\n",
              "      <td>DOGE</td>\n",
              "      <td>2013-12-20 23:59:59</td>\n",
              "      <td>0.001143</td>\n",
              "      <td>0.000662</td>\n",
              "      <td>0.001143</td>\n",
              "      <td>0.000704</td>\n",
              "      <td>0.000000e+00</td>\n",
              "      <td>7.284337e+06</td>\n",
              "      <td>0.000416</td>\n",
              "    </tr>\n",
              "    <tr>\n",
              "      <th>...</th>\n",
              "      <td>...</td>\n",
              "      <td>...</td>\n",
              "      <td>...</td>\n",
              "      <td>...</td>\n",
              "      <td>...</td>\n",
              "      <td>...</td>\n",
              "      <td>...</td>\n",
              "      <td>...</td>\n",
              "      <td>...</td>\n",
              "      <td>...</td>\n",
              "      <td>...</td>\n",
              "    </tr>\n",
              "    <tr>\n",
              "      <th>2626</th>\n",
              "      <td>2627</td>\n",
              "      <td>Dogecoin</td>\n",
              "      <td>DOGE</td>\n",
              "      <td>2021-02-23 23:59:59</td>\n",
              "      <td>0.053768</td>\n",
              "      <td>0.042410</td>\n",
              "      <td>0.053698</td>\n",
              "      <td>0.047392</td>\n",
              "      <td>2.394345e+09</td>\n",
              "      <td>6.089686e+09</td>\n",
              "      <td>NaN</td>\n",
              "    </tr>\n",
              "    <tr>\n",
              "      <th>2627</th>\n",
              "      <td>2628</td>\n",
              "      <td>Dogecoin</td>\n",
              "      <td>DOGE</td>\n",
              "      <td>2021-02-24 23:59:59</td>\n",
              "      <td>0.059873</td>\n",
              "      <td>0.046216</td>\n",
              "      <td>0.047414</td>\n",
              "      <td>0.056555</td>\n",
              "      <td>4.148512e+09</td>\n",
              "      <td>7.267918e+09</td>\n",
              "      <td>NaN</td>\n",
              "    </tr>\n",
              "    <tr>\n",
              "      <th>2628</th>\n",
              "      <td>2629</td>\n",
              "      <td>Dogecoin</td>\n",
              "      <td>DOGE</td>\n",
              "      <td>2021-02-25 23:59:59</td>\n",
              "      <td>0.057808</td>\n",
              "      <td>0.049869</td>\n",
              "      <td>0.056615</td>\n",
              "      <td>0.050167</td>\n",
              "      <td>2.356982e+09</td>\n",
              "      <td>6.447665e+09</td>\n",
              "      <td>NaN</td>\n",
              "    </tr>\n",
              "    <tr>\n",
              "      <th>2629</th>\n",
              "      <td>2630</td>\n",
              "      <td>Dogecoin</td>\n",
              "      <td>DOGE</td>\n",
              "      <td>2021-02-26 23:59:59</td>\n",
              "      <td>0.052472</td>\n",
              "      <td>0.048708</td>\n",
              "      <td>0.050138</td>\n",
              "      <td>0.050480</td>\n",
              "      <td>1.694323e+09</td>\n",
              "      <td>6.488523e+09</td>\n",
              "      <td>NaN</td>\n",
              "    </tr>\n",
              "    <tr>\n",
              "      <th>2630</th>\n",
              "      <td>2631</td>\n",
              "      <td>Dogecoin</td>\n",
              "      <td>DOGE</td>\n",
              "      <td>2021-02-27 23:59:59</td>\n",
              "      <td>0.051920</td>\n",
              "      <td>0.049297</td>\n",
              "      <td>0.050500</td>\n",
              "      <td>0.050083</td>\n",
              "      <td>1.286230e+09</td>\n",
              "      <td>6.438193e+09</td>\n",
              "      <td>NaN</td>\n",
              "    </tr>\n",
              "  </tbody>\n",
              "</table>\n",
              "<p>2631 rows × 11 columns</p>\n",
              "</div>"
            ],
            "text/plain": [
              "       SNo      Name Symbol  ...        Volume     Marketcap  dayspredict\n",
              "0        1  Dogecoin   DOGE  ...  0.000000e+00  1.509085e+06     0.000602\n",
              "1        2  Dogecoin   DOGE  ...  0.000000e+00  2.169688e+06     0.000522\n",
              "2        3  Dogecoin   DOGE  ...  0.000000e+00  3.188943e+06     0.000459\n",
              "3        4  Dogecoin   DOGE  ...  0.000000e+00  1.115034e+07     0.000454\n",
              "4        5  Dogecoin   DOGE  ...  0.000000e+00  7.284337e+06     0.000416\n",
              "...    ...       ...    ...  ...           ...           ...          ...\n",
              "2626  2627  Dogecoin   DOGE  ...  2.394345e+09  6.089686e+09          NaN\n",
              "2627  2628  Dogecoin   DOGE  ...  4.148512e+09  7.267918e+09          NaN\n",
              "2628  2629  Dogecoin   DOGE  ...  2.356982e+09  6.447665e+09          NaN\n",
              "2629  2630  Dogecoin   DOGE  ...  1.694323e+09  6.488523e+09          NaN\n",
              "2630  2631  Dogecoin   DOGE  ...  1.286230e+09  6.438193e+09          NaN\n",
              "\n",
              "[2631 rows x 11 columns]"
            ]
          },
          "metadata": {
            "tags": []
          },
          "execution_count": 97
        }
      ]
    },
    {
      "cell_type": "code",
      "metadata": {
        "colab": {
          "base_uri": "https://localhost:8080/"
        },
        "id": "MNZ5Fdsfww7r",
        "outputId": "6d88597a-5782-4430-e37e-2438a04c8ae8"
      },
      "source": [
        "doge.variable()"
      ],
      "execution_count": null,
      "outputs": [
        {
          "output_type": "execute_result",
          "data": {
            "text/plain": [
              "(2621, 2621)"
            ]
          },
          "metadata": {
            "tags": []
          },
          "execution_count": 98
        }
      ]
    },
    {
      "cell_type": "code",
      "metadata": {
        "colab": {
          "base_uri": "https://localhost:8080/"
        },
        "id": "phhZSLiHHLsG",
        "outputId": "2f5668a7-30fa-49b5-cf0e-35ded15ec4ff"
      },
      "source": [
        "doge.split_data(x, y)\n",
        "print(doge.lin_reg())\n",
        "print(doge.lr_predict())"
      ],
      "execution_count": null,
      "outputs": [
        {
          "output_type": "stream",
          "text": [
            "Linear Regression Model Accuracy: 0.6961584947729441\n",
            " Coefficients: [[0.91315162]] \n",
            " Intercept: [0.00014041]\n",
            "Linear Regression Prediction: [0.00235482]\n"
          ],
          "name": "stdout"
        }
      ]
    },
    {
      "cell_type": "code",
      "metadata": {
        "colab": {
          "base_uri": "https://localhost:8080/"
        },
        "id": "ZuQq4IbblCCN",
        "outputId": "fce8fbc8-4571-4494-802d-2595b5a3b00f"
      },
      "source": [
        "print(doge.svm())\n",
        "print(doge.svr_predict())"
      ],
      "execution_count": null,
      "outputs": [
        {
          "output_type": "stream",
          "text": [
            "SVM Model Accuracy: -0.04221303446445712\n",
            "Support Vector Regression Prediction: 0.008587482523580547\n"
          ],
          "name": "stdout"
        },
        {
          "output_type": "stream",
          "text": [
            "/usr/local/lib/python3.7/dist-packages/sklearn/utils/validation.py:760: DataConversionWarning: A column-vector y was passed when a 1d array was expected. Please change the shape of y to (n_samples, ), for example using ravel().\n",
            "  y = column_or_1d(y, warn=True)\n"
          ],
          "name": "stderr"
        }
      ]
    },
    {
      "cell_type": "code",
      "metadata": {
        "colab": {
          "base_uri": "https://localhost:8080/",
          "height": 295
        },
        "id": "mmVSLBgTw6X6",
        "outputId": "5b6ae807-89d8-4bbe-bcae-bb5fbc85d1ef"
      },
      "source": [
        "doge.dayspredict_visual()"
      ],
      "execution_count": null,
      "outputs": [
        {
          "output_type": "display_data",
          "data": {
            "image/png": "[encoded data removed]",
            "text/plain": [
              "<Figure size 432x288 with 1 Axes>"
            ]
          },
          "metadata": {
            "tags": [],
            "needs_background": "light"
          }
        }
      ]
    },
    {
      "cell_type": "code",
      "metadata": {
        "colab": {
          "base_uri": "https://localhost:8080/",
          "height": 902
        },
        "id": "MQojY7gXPaQO",
        "outputId": "29d47c9e-0b51-459b-e1f0-22da3d14e2f2"
      },
      "source": [
        "print(doge.price_prev_year())\n",
        "print(doge.price_prev_6months())\n",
        "print(doge.price_prev_30days())"
      ],
      "execution_count": null,
      "outputs": [
        {
          "output_type": "stream",
          "text": [
            "None\n",
            "None\n",
            "None\n"
          ],
          "name": "stdout"
        },
        {
          "output_type": "display_data",
          "data": {
            "image/png": "[encoded data removed]",
            "text/plain": [
              "<Figure size 432x288 with 1 Axes>"
            ]
          },
          "metadata": {
            "tags": [],
            "needs_background": "light"
          }
        },
        {
          "output_type": "display_data",
          "data": {
            "image/png": "[encoded data removed]",
            "text/plain": [
              "<Figure size 432x288 with 1 Axes>"
            ]
          },
          "metadata": {
            "tags": [],
            "needs_background": "light"
          }
        },
        {
          "output_type": "display_data",
          "data": {
            "image/png": "[encoded data removed]",
            "text/plain": [
              "<Figure size 432x288 with 1 Axes>"
            ]
          },
          "metadata": {
            "tags": [],
            "needs_background": "light"
          }
        }
      ]
    },
    {
      "cell_type": "code",
      "metadata": {
        "id": "J6_d5udMPa3_"
      },
      "source": [
        ""
      ],
      "execution_count": null,
      "outputs": []
    },
    {
      "cell_type": "markdown",
      "metadata": {
        "id": "pDiDSmPbmFqM"
      },
      "source": [
        "# **Ripple Analysis**"
      ]
    },
    {
      "cell_type": "code",
      "metadata": {
        "colab": {
          "base_uri": "https://localhost:8080/",
          "height": 419
        },
        "id": "o4ZCx1z_7SWC",
        "outputId": "d7286420-6a42-4628-eb07-d6d7a2021340"
      },
      "source": [
        "xrp = Currency('XRP')\n",
        "xrp.xrp_data()"
      ],
      "execution_count": null,
      "outputs": [
        {
          "output_type": "execute_result",
          "data": {
            "text/html": [
              "<div>\n",
              "<style scoped>\n",
              "    .dataframe tbody tr th:only-of-type {\n",
              "        vertical-align: middle;\n",
              "    }\n",
              "\n",
              "    .dataframe tbody tr th {\n",
              "        vertical-align: top;\n",
              "    }\n",
              "\n",
              "    .dataframe thead th {\n",
              "        text-align: right;\n",
              "    }\n",
              "</style>\n",
              "<table border=\"1\" class=\"dataframe\">\n",
              "  <thead>\n",
              "    <tr style=\"text-align: right;\">\n",
              "      <th></th>\n",
              "      <th>SNo</th>\n",
              "      <th>Name</th>\n",
              "      <th>Symbol</th>\n",
              "      <th>Date</th>\n",
              "      <th>High</th>\n",
              "      <th>Low</th>\n",
              "      <th>Open</th>\n",
              "      <th>Close</th>\n",
              "      <th>Volume</th>\n",
              "      <th>Marketcap</th>\n",
              "    </tr>\n",
              "  </thead>\n",
              "  <tbody>\n",
              "    <tr>\n",
              "      <th>0</th>\n",
              "      <td>1</td>\n",
              "      <td>XRP</td>\n",
              "      <td>XRP</td>\n",
              "      <td>2013-08-05 23:59:59</td>\n",
              "      <td>0.005980</td>\n",
              "      <td>0.005613</td>\n",
              "      <td>0.005875</td>\n",
              "      <td>0.005613</td>\n",
              "      <td>0.000000e+00</td>\n",
              "      <td>4.387916e+07</td>\n",
              "    </tr>\n",
              "    <tr>\n",
              "      <th>1</th>\n",
              "      <td>2</td>\n",
              "      <td>XRP</td>\n",
              "      <td>XRP</td>\n",
              "      <td>2013-08-06 23:59:59</td>\n",
              "      <td>0.005661</td>\n",
              "      <td>0.004629</td>\n",
              "      <td>0.005637</td>\n",
              "      <td>0.004680</td>\n",
              "      <td>0.000000e+00</td>\n",
              "      <td>3.659101e+07</td>\n",
              "    </tr>\n",
              "    <tr>\n",
              "      <th>2</th>\n",
              "      <td>3</td>\n",
              "      <td>XRP</td>\n",
              "      <td>XRP</td>\n",
              "      <td>2013-08-07 23:59:59</td>\n",
              "      <td>0.004682</td>\n",
              "      <td>0.004333</td>\n",
              "      <td>0.004669</td>\n",
              "      <td>0.004417</td>\n",
              "      <td>0.000000e+00</td>\n",
              "      <td>3.453412e+07</td>\n",
              "    </tr>\n",
              "    <tr>\n",
              "      <th>3</th>\n",
              "      <td>4</td>\n",
              "      <td>XRP</td>\n",
              "      <td>XRP</td>\n",
              "      <td>2013-08-08 23:59:59</td>\n",
              "      <td>0.004424</td>\n",
              "      <td>0.004175</td>\n",
              "      <td>0.004397</td>\n",
              "      <td>0.004254</td>\n",
              "      <td>0.000000e+00</td>\n",
              "      <td>3.325863e+07</td>\n",
              "    </tr>\n",
              "    <tr>\n",
              "      <th>4</th>\n",
              "      <td>5</td>\n",
              "      <td>XRP</td>\n",
              "      <td>XRP</td>\n",
              "      <td>2013-08-09 23:59:59</td>\n",
              "      <td>0.004367</td>\n",
              "      <td>0.004253</td>\n",
              "      <td>0.004257</td>\n",
              "      <td>0.004291</td>\n",
              "      <td>0.000000e+00</td>\n",
              "      <td>3.354750e+07</td>\n",
              "    </tr>\n",
              "    <tr>\n",
              "      <th>...</th>\n",
              "      <td>...</td>\n",
              "      <td>...</td>\n",
              "      <td>...</td>\n",
              "      <td>...</td>\n",
              "      <td>...</td>\n",
              "      <td>...</td>\n",
              "      <td>...</td>\n",
              "      <td>...</td>\n",
              "      <td>...</td>\n",
              "      <td>...</td>\n",
              "    </tr>\n",
              "    <tr>\n",
              "      <th>2759</th>\n",
              "      <td>2760</td>\n",
              "      <td>XRP</td>\n",
              "      <td>XRP</td>\n",
              "      <td>2021-02-23 23:59:59</td>\n",
              "      <td>0.570989</td>\n",
              "      <td>0.379302</td>\n",
              "      <td>0.570989</td>\n",
              "      <td>0.473563</td>\n",
              "      <td>1.435902e+10</td>\n",
              "      <td>2.150165e+10</td>\n",
              "    </tr>\n",
              "    <tr>\n",
              "      <th>2760</th>\n",
              "      <td>2761</td>\n",
              "      <td>XRP</td>\n",
              "      <td>XRP</td>\n",
              "      <td>2021-02-24 23:59:59</td>\n",
              "      <td>0.499370</td>\n",
              "      <td>0.454759</td>\n",
              "      <td>0.474201</td>\n",
              "      <td>0.471832</td>\n",
              "      <td>8.015469e+09</td>\n",
              "      <td>2.142305e+10</td>\n",
              "    </tr>\n",
              "    <tr>\n",
              "      <th>2761</th>\n",
              "      <td>2762</td>\n",
              "      <td>XRP</td>\n",
              "      <td>XRP</td>\n",
              "      <td>2021-02-25 23:59:59</td>\n",
              "      <td>0.482517</td>\n",
              "      <td>0.429103</td>\n",
              "      <td>0.471776</td>\n",
              "      <td>0.434524</td>\n",
              "      <td>5.952354e+09</td>\n",
              "      <td>1.972912e+10</td>\n",
              "    </tr>\n",
              "    <tr>\n",
              "      <th>2762</th>\n",
              "      <td>2763</td>\n",
              "      <td>XRP</td>\n",
              "      <td>XRP</td>\n",
              "      <td>2021-02-26 23:59:59</td>\n",
              "      <td>0.450440</td>\n",
              "      <td>0.415559</td>\n",
              "      <td>0.434941</td>\n",
              "      <td>0.427900</td>\n",
              "      <td>6.476254e+09</td>\n",
              "      <td>1.942839e+10</td>\n",
              "    </tr>\n",
              "    <tr>\n",
              "      <th>2763</th>\n",
              "      <td>2764</td>\n",
              "      <td>XRP</td>\n",
              "      <td>XRP</td>\n",
              "      <td>2021-02-27 23:59:59</td>\n",
              "      <td>0.457596</td>\n",
              "      <td>0.427904</td>\n",
              "      <td>0.427904</td>\n",
              "      <td>0.437809</td>\n",
              "      <td>4.756623e+09</td>\n",
              "      <td>1.987829e+10</td>\n",
              "    </tr>\n",
              "  </tbody>\n",
              "</table>\n",
              "<p>2764 rows × 10 columns</p>\n",
              "</div>"
            ],
            "text/plain": [
              "       SNo Name Symbol  ...     Close        Volume     Marketcap\n",
              "0        1  XRP    XRP  ...  0.005613  0.000000e+00  4.387916e+07\n",
              "1        2  XRP    XRP  ...  0.004680  0.000000e+00  3.659101e+07\n",
              "2        3  XRP    XRP  ...  0.004417  0.000000e+00  3.453412e+07\n",
              "3        4  XRP    XRP  ...  0.004254  0.000000e+00  3.325863e+07\n",
              "4        5  XRP    XRP  ...  0.004291  0.000000e+00  3.354750e+07\n",
              "...    ...  ...    ...  ...       ...           ...           ...\n",
              "2759  2760  XRP    XRP  ...  0.473563  1.435902e+10  2.150165e+10\n",
              "2760  2761  XRP    XRP  ...  0.471832  8.015469e+09  2.142305e+10\n",
              "2761  2762  XRP    XRP  ...  0.434524  5.952354e+09  1.972912e+10\n",
              "2762  2763  XRP    XRP  ...  0.427900  6.476254e+09  1.942839e+10\n",
              "2763  2764  XRP    XRP  ...  0.437809  4.756623e+09  1.987829e+10\n",
              "\n",
              "[2764 rows x 10 columns]"
            ]
          },
          "metadata": {
            "tags": []
          },
          "execution_count": 103
        }
      ]
    },
    {
      "cell_type": "code",
      "metadata": {
        "colab": {
          "base_uri": "https://localhost:8080/",
          "height": 575
        },
        "id": "vng1lHnz7SWC",
        "outputId": "c3ef59b4-8fb8-4868-d747-fda793badfb0"
      },
      "source": [
        "xrp.data_description()"
      ],
      "execution_count": null,
      "outputs": [
        {
          "output_type": "execute_result",
          "data": {
            "text/html": [
              "<div>\n",
              "<style scoped>\n",
              "    .dataframe tbody tr th:only-of-type {\n",
              "        vertical-align: middle;\n",
              "    }\n",
              "\n",
              "    .dataframe tbody tr th {\n",
              "        vertical-align: top;\n",
              "    }\n",
              "\n",
              "    .dataframe thead th {\n",
              "        text-align: right;\n",
              "    }\n",
              "</style>\n",
              "<table border=\"1\" class=\"dataframe\">\n",
              "  <thead>\n",
              "    <tr style=\"text-align: right;\">\n",
              "      <th></th>\n",
              "      <th>SNo</th>\n",
              "      <th>High</th>\n",
              "      <th>Low</th>\n",
              "      <th>Open</th>\n",
              "      <th>Close</th>\n",
              "      <th>Volume</th>\n",
              "      <th>Marketcap</th>\n",
              "    </tr>\n",
              "  </thead>\n",
              "  <tbody>\n",
              "    <tr>\n",
              "      <th>count</th>\n",
              "      <td>2764.000000</td>\n",
              "      <td>2764.000000</td>\n",
              "      <td>2764.000000</td>\n",
              "      <td>2764.000000</td>\n",
              "      <td>2764.000000</td>\n",
              "      <td>2.764000e+03</td>\n",
              "      <td>2.764000e+03</td>\n",
              "    </tr>\n",
              "    <tr>\n",
              "      <th>mean</th>\n",
              "      <td>1382.500000</td>\n",
              "      <td>0.211615</td>\n",
              "      <td>0.192096</td>\n",
              "      <td>0.201967</td>\n",
              "      <td>0.202130</td>\n",
              "      <td>9.432946e+08</td>\n",
              "      <td>8.208210e+09</td>\n",
              "    </tr>\n",
              "    <tr>\n",
              "      <th>std</th>\n",
              "      <td>798.042397</td>\n",
              "      <td>0.321864</td>\n",
              "      <td>0.275072</td>\n",
              "      <td>0.297988</td>\n",
              "      <td>0.298001</td>\n",
              "      <td>2.436647e+09</td>\n",
              "      <td>1.182689e+10</td>\n",
              "    </tr>\n",
              "    <tr>\n",
              "      <th>min</th>\n",
              "      <td>1.000000</td>\n",
              "      <td>0.003082</td>\n",
              "      <td>0.002802</td>\n",
              "      <td>0.002809</td>\n",
              "      <td>0.002810</td>\n",
              "      <td>0.000000e+00</td>\n",
              "      <td>2.196991e+07</td>\n",
              "    </tr>\n",
              "    <tr>\n",
              "      <th>25%</th>\n",
              "      <td>691.750000</td>\n",
              "      <td>0.007289</td>\n",
              "      <td>0.006791</td>\n",
              "      <td>0.007017</td>\n",
              "      <td>0.007022</td>\n",
              "      <td>4.467485e+05</td>\n",
              "      <td>2.206272e+08</td>\n",
              "    </tr>\n",
              "    <tr>\n",
              "      <th>50%</th>\n",
              "      <td>1382.500000</td>\n",
              "      <td>0.161938</td>\n",
              "      <td>0.144407</td>\n",
              "      <td>0.155642</td>\n",
              "      <td>0.157144</td>\n",
              "      <td>5.126550e+07</td>\n",
              "      <td>6.229240e+09</td>\n",
              "    </tr>\n",
              "    <tr>\n",
              "      <th>75%</th>\n",
              "      <td>2073.250000</td>\n",
              "      <td>0.306037</td>\n",
              "      <td>0.287530</td>\n",
              "      <td>0.297542</td>\n",
              "      <td>0.297521</td>\n",
              "      <td>1.067129e+09</td>\n",
              "      <td>1.267811e+10</td>\n",
              "    </tr>\n",
              "    <tr>\n",
              "      <th>max</th>\n",
              "      <td>2764.000000</td>\n",
              "      <td>3.841940</td>\n",
              "      <td>3.117340</td>\n",
              "      <td>3.363570</td>\n",
              "      <td>3.377810</td>\n",
              "      <td>3.497423e+10</td>\n",
              "      <td>1.308535e+11</td>\n",
              "    </tr>\n",
              "  </tbody>\n",
              "</table>\n",
              "</div>"
            ],
            "text/plain": [
              "               SNo         High  ...        Volume     Marketcap\n",
              "count  2764.000000  2764.000000  ...  2.764000e+03  2.764000e+03\n",
              "mean   1382.500000     0.211615  ...  9.432946e+08  8.208210e+09\n",
              "std     798.042397     0.321864  ...  2.436647e+09  1.182689e+10\n",
              "min       1.000000     0.003082  ...  0.000000e+00  2.196991e+07\n",
              "25%     691.750000     0.007289  ...  4.467485e+05  2.206272e+08\n",
              "50%    1382.500000     0.161938  ...  5.126550e+07  6.229240e+09\n",
              "75%    2073.250000     0.306037  ...  1.067129e+09  1.267811e+10\n",
              "max    2764.000000     3.841940  ...  3.497423e+10  1.308535e+11\n",
              "\n",
              "[8 rows x 7 columns]"
            ]
          },
          "metadata": {
            "tags": []
          },
          "execution_count": 104
        },
        {
          "output_type": "display_data",
          "data": {
            "image/png": "[encoded data removed]",
            "text/plain": [
              "<Figure size 432x288 with 1 Axes>"
            ]
          },
          "metadata": {
            "tags": [],
            "needs_background": "light"
          }
        }
      ]
    },
    {
      "cell_type": "code",
      "metadata": {
        "colab": {
          "base_uri": "https://localhost:8080/",
          "height": 419
        },
        "id": "byw4pIt0xC3e",
        "outputId": "be9acaa4-82b3-4168-f787-14ebe2d94bc4"
      },
      "source": [
        "xrp.pluscolumn()"
      ],
      "execution_count": null,
      "outputs": [
        {
          "output_type": "execute_result",
          "data": {
            "text/html": [
              "<div>\n",
              "<style scoped>\n",
              "    .dataframe tbody tr th:only-of-type {\n",
              "        vertical-align: middle;\n",
              "    }\n",
              "\n",
              "    .dataframe tbody tr th {\n",
              "        vertical-align: top;\n",
              "    }\n",
              "\n",
              "    .dataframe thead th {\n",
              "        text-align: right;\n",
              "    }\n",
              "</style>\n",
              "<table border=\"1\" class=\"dataframe\">\n",
              "  <thead>\n",
              "    <tr style=\"text-align: right;\">\n",
              "      <th></th>\n",
              "      <th>SNo</th>\n",
              "      <th>Name</th>\n",
              "      <th>Symbol</th>\n",
              "      <th>Date</th>\n",
              "      <th>High</th>\n",
              "      <th>Low</th>\n",
              "      <th>Open</th>\n",
              "      <th>Close</th>\n",
              "      <th>Volume</th>\n",
              "      <th>Marketcap</th>\n",
              "      <th>dayspredict</th>\n",
              "    </tr>\n",
              "  </thead>\n",
              "  <tbody>\n",
              "    <tr>\n",
              "      <th>0</th>\n",
              "      <td>1</td>\n",
              "      <td>XRP</td>\n",
              "      <td>XRP</td>\n",
              "      <td>2013-08-05 23:59:59</td>\n",
              "      <td>0.005980</td>\n",
              "      <td>0.005613</td>\n",
              "      <td>0.005875</td>\n",
              "      <td>0.005613</td>\n",
              "      <td>0.000000e+00</td>\n",
              "      <td>4.387916e+07</td>\n",
              "      <td>0.003092</td>\n",
              "    </tr>\n",
              "    <tr>\n",
              "      <th>1</th>\n",
              "      <td>2</td>\n",
              "      <td>XRP</td>\n",
              "      <td>XRP</td>\n",
              "      <td>2013-08-06 23:59:59</td>\n",
              "      <td>0.005661</td>\n",
              "      <td>0.004629</td>\n",
              "      <td>0.005637</td>\n",
              "      <td>0.004680</td>\n",
              "      <td>0.000000e+00</td>\n",
              "      <td>3.659101e+07</td>\n",
              "      <td>0.003134</td>\n",
              "    </tr>\n",
              "    <tr>\n",
              "      <th>2</th>\n",
              "      <td>3</td>\n",
              "      <td>XRP</td>\n",
              "      <td>XRP</td>\n",
              "      <td>2013-08-07 23:59:59</td>\n",
              "      <td>0.004682</td>\n",
              "      <td>0.004333</td>\n",
              "      <td>0.004669</td>\n",
              "      <td>0.004417</td>\n",
              "      <td>0.000000e+00</td>\n",
              "      <td>3.453412e+07</td>\n",
              "      <td>0.005671</td>\n",
              "    </tr>\n",
              "    <tr>\n",
              "      <th>3</th>\n",
              "      <td>4</td>\n",
              "      <td>XRP</td>\n",
              "      <td>XRP</td>\n",
              "      <td>2013-08-08 23:59:59</td>\n",
              "      <td>0.004424</td>\n",
              "      <td>0.004175</td>\n",
              "      <td>0.004397</td>\n",
              "      <td>0.004254</td>\n",
              "      <td>0.000000e+00</td>\n",
              "      <td>3.325863e+07</td>\n",
              "      <td>0.005617</td>\n",
              "    </tr>\n",
              "    <tr>\n",
              "      <th>4</th>\n",
              "      <td>5</td>\n",
              "      <td>XRP</td>\n",
              "      <td>XRP</td>\n",
              "      <td>2013-08-09 23:59:59</td>\n",
              "      <td>0.004367</td>\n",
              "      <td>0.004253</td>\n",
              "      <td>0.004257</td>\n",
              "      <td>0.004291</td>\n",
              "      <td>0.000000e+00</td>\n",
              "      <td>3.354750e+07</td>\n",
              "      <td>0.005260</td>\n",
              "    </tr>\n",
              "    <tr>\n",
              "      <th>...</th>\n",
              "      <td>...</td>\n",
              "      <td>...</td>\n",
              "      <td>...</td>\n",
              "      <td>...</td>\n",
              "      <td>...</td>\n",
              "      <td>...</td>\n",
              "      <td>...</td>\n",
              "      <td>...</td>\n",
              "      <td>...</td>\n",
              "      <td>...</td>\n",
              "      <td>...</td>\n",
              "    </tr>\n",
              "    <tr>\n",
              "      <th>2759</th>\n",
              "      <td>2760</td>\n",
              "      <td>XRP</td>\n",
              "      <td>XRP</td>\n",
              "      <td>2021-02-23 23:59:59</td>\n",
              "      <td>0.570989</td>\n",
              "      <td>0.379302</td>\n",
              "      <td>0.570989</td>\n",
              "      <td>0.473563</td>\n",
              "      <td>1.435902e+10</td>\n",
              "      <td>2.150165e+10</td>\n",
              "      <td>NaN</td>\n",
              "    </tr>\n",
              "    <tr>\n",
              "      <th>2760</th>\n",
              "      <td>2761</td>\n",
              "      <td>XRP</td>\n",
              "      <td>XRP</td>\n",
              "      <td>2021-02-24 23:59:59</td>\n",
              "      <td>0.499370</td>\n",
              "      <td>0.454759</td>\n",
              "      <td>0.474201</td>\n",
              "      <td>0.471832</td>\n",
              "      <td>8.015469e+09</td>\n",
              "      <td>2.142305e+10</td>\n",
              "      <td>NaN</td>\n",
              "    </tr>\n",
              "    <tr>\n",
              "      <th>2761</th>\n",
              "      <td>2762</td>\n",
              "      <td>XRP</td>\n",
              "      <td>XRP</td>\n",
              "      <td>2021-02-25 23:59:59</td>\n",
              "      <td>0.482517</td>\n",
              "      <td>0.429103</td>\n",
              "      <td>0.471776</td>\n",
              "      <td>0.434524</td>\n",
              "      <td>5.952354e+09</td>\n",
              "      <td>1.972912e+10</td>\n",
              "      <td>NaN</td>\n",
              "    </tr>\n",
              "    <tr>\n",
              "      <th>2762</th>\n",
              "      <td>2763</td>\n",
              "      <td>XRP</td>\n",
              "      <td>XRP</td>\n",
              "      <td>2021-02-26 23:59:59</td>\n",
              "      <td>0.450440</td>\n",
              "      <td>0.415559</td>\n",
              "      <td>0.434941</td>\n",
              "      <td>0.427900</td>\n",
              "      <td>6.476254e+09</td>\n",
              "      <td>1.942839e+10</td>\n",
              "      <td>NaN</td>\n",
              "    </tr>\n",
              "    <tr>\n",
              "      <th>2763</th>\n",
              "      <td>2764</td>\n",
              "      <td>XRP</td>\n",
              "      <td>XRP</td>\n",
              "      <td>2021-02-27 23:59:59</td>\n",
              "      <td>0.457596</td>\n",
              "      <td>0.427904</td>\n",
              "      <td>0.427904</td>\n",
              "      <td>0.437809</td>\n",
              "      <td>4.756623e+09</td>\n",
              "      <td>1.987829e+10</td>\n",
              "      <td>NaN</td>\n",
              "    </tr>\n",
              "  </tbody>\n",
              "</table>\n",
              "<p>2764 rows × 11 columns</p>\n",
              "</div>"
            ],
            "text/plain": [
              "       SNo Name Symbol  ...        Volume     Marketcap  dayspredict\n",
              "0        1  XRP    XRP  ...  0.000000e+00  4.387916e+07     0.003092\n",
              "1        2  XRP    XRP  ...  0.000000e+00  3.659101e+07     0.003134\n",
              "2        3  XRP    XRP  ...  0.000000e+00  3.453412e+07     0.005671\n",
              "3        4  XRP    XRP  ...  0.000000e+00  3.325863e+07     0.005617\n",
              "4        5  XRP    XRP  ...  0.000000e+00  3.354750e+07     0.005260\n",
              "...    ...  ...    ...  ...           ...           ...          ...\n",
              "2759  2760  XRP    XRP  ...  1.435902e+10  2.150165e+10          NaN\n",
              "2760  2761  XRP    XRP  ...  8.015469e+09  2.142305e+10          NaN\n",
              "2761  2762  XRP    XRP  ...  5.952354e+09  1.972912e+10          NaN\n",
              "2762  2763  XRP    XRP  ...  6.476254e+09  1.942839e+10          NaN\n",
              "2763  2764  XRP    XRP  ...  4.756623e+09  1.987829e+10          NaN\n",
              "\n",
              "[2764 rows x 11 columns]"
            ]
          },
          "metadata": {
            "tags": []
          },
          "execution_count": 105
        }
      ]
    },
    {
      "cell_type": "code",
      "metadata": {
        "colab": {
          "base_uri": "https://localhost:8080/"
        },
        "id": "IHiEQZvNxI_8",
        "outputId": "3609187f-b5a2-4084-e3d2-d694782a6254"
      },
      "source": [
        "xrp.variable()"
      ],
      "execution_count": null,
      "outputs": [
        {
          "output_type": "execute_result",
          "data": {
            "text/plain": [
              "(2754, 2754)"
            ]
          },
          "metadata": {
            "tags": []
          },
          "execution_count": 106
        }
      ]
    },
    {
      "cell_type": "code",
      "metadata": {
        "colab": {
          "base_uri": "https://localhost:8080/"
        },
        "id": "ZLuNGb_I7YYN",
        "outputId": "5c846bef-952c-4c14-9807-49d74f34c72c"
      },
      "source": [
        "xrp.split_data(x, y)\n",
        "print(xrp.lin_reg())\n",
        "print(xrp.lr_predict())"
      ],
      "execution_count": null,
      "outputs": [
        {
          "output_type": "stream",
          "text": [
            "Linear Regression Model Accuracy: 0.526966929447999\n",
            " Coefficients: [[0.8792354]] \n",
            " Intercept: [0.0235317]\n",
            "Linear Regression Prediction: [0.25716274]\n"
          ],
          "name": "stdout"
        }
      ]
    },
    {
      "cell_type": "code",
      "metadata": {
        "colab": {
          "base_uri": "https://localhost:8080/"
        },
        "id": "_TWU8n1VlS6t",
        "outputId": "9b1b6c34-db2a-49e8-ef56-034372e12976"
      },
      "source": [
        "print(xrp.svm())\n",
        "print(xrp.svr_predict())"
      ],
      "execution_count": null,
      "outputs": [
        {
          "output_type": "stream",
          "text": [
            "/usr/local/lib/python3.7/dist-packages/sklearn/utils/validation.py:760: DataConversionWarning: A column-vector y was passed when a 1d array was expected. Please change the shape of y to (n_samples, ), for example using ravel().\n",
            "  y = column_or_1d(y, warn=True)\n"
          ],
          "name": "stderr"
        },
        {
          "output_type": "stream",
          "text": [
            "SVM Model Accuracy: 0.4223640956054225\n",
            "Support Vector Regression Prediction: 0.30659403300567445\n"
          ],
          "name": "stdout"
        }
      ]
    },
    {
      "cell_type": "code",
      "metadata": {
        "colab": {
          "base_uri": "https://localhost:8080/",
          "height": 295
        },
        "id": "pxZ1OZHkxNyv",
        "outputId": "689bd24e-fde7-4df3-cb40-0048405c6245"
      },
      "source": [
        "xrp.dayspredict_visual()"
      ],
      "execution_count": null,
      "outputs": [
        {
          "output_type": "display_data",
          "data": {
            "image/png": "[encoded data removed]",
            "text/plain": [
              "<Figure size 432x288 with 1 Axes>"
            ]
          },
          "metadata": {
            "tags": [],
            "needs_background": "light"
          }
        }
      ]
    },
    {
      "cell_type": "code",
      "metadata": {
        "id": "DRlCx5ybHhJt",
        "colab": {
          "base_uri": "https://localhost:8080/",
          "height": 902
        },
        "outputId": "7de010ef-5b64-4d77-f64b-6bbc937a6fb4"
      },
      "source": [
        "print(xrp.price_prev_year())\n",
        "print(xrp.price_prev_6months())\n",
        "print(xrp.price_prev_30days())"
      ],
      "execution_count": null,
      "outputs": [
        {
          "output_type": "stream",
          "text": [
            "None\n",
            "None\n",
            "None\n"
          ],
          "name": "stdout"
        },
        {
          "output_type": "display_data",
          "data": {
            "image/png": "[encoded data removed]",
            "text/plain": [
              "<Figure size 432x288 with 1 Axes>"
            ]
          },
          "metadata": {
            "tags": [],
            "needs_background": "light"
          }
        },
        {
          "output_type": "display_data",
          "data": {
            "image/png": "[encoded data removed]",
            "text/plain": [
              "<Figure size 432x288 with 1 Axes>"
            ]
          },
          "metadata": {
            "tags": [],
            "needs_background": "light"
          }
        },
        {
          "output_type": "display_data",
          "data": {
            "image/png": "[encoded data removed]",
            "text/plain": [
              "<Figure size 432x288 with 1 Axes>"
            ]
          },
          "metadata": {
            "tags": [],
            "needs_background": "light"
          }
        }
      ]
    },
    {
      "cell_type": "markdown",
      "metadata": {
        "id": "Zh-svlNa0TQa"
      },
      "source": [
        "## **Conclusion**"
      ]
    }
  ]
}